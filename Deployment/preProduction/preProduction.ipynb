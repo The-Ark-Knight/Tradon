{
 "cells": [
  {
   "cell_type": "code",
   "id": "initial_id",
   "metadata": {
    "collapsed": true,
    "ExecuteTime": {
     "end_time": "2024-06-06T09:02:23.219491Z",
     "start_time": "2024-06-06T09:02:23.215530Z"
    }
   },
   "source": [
    "import yfinance as yf\n",
    "import pandas as pd\n",
    "import numpy as np"
   ],
   "outputs": [],
   "execution_count": 36
  },
  {
   "cell_type": "code",
   "source": [
    "today = yf.Ticker(\"AAPL\")\n",
    "today = today.history(\"max\")"
   ],
   "metadata": {
    "collapsed": false,
    "ExecuteTime": {
     "end_time": "2024-06-06T09:02:24.009137Z",
     "start_time": "2024-06-06T09:02:23.469073Z"
    }
   },
   "id": "33f3ca65044b3497",
   "outputs": [],
   "execution_count": 37
  },
  {
   "cell_type": "code",
   "source": [
    "cols = [\"Dividends\", \"Stock Splits\"]\n",
    "today = today.drop(columns=cols)\n",
    "today.index = pd.to_datetime(today.index)"
   ],
   "metadata": {
    "collapsed": false,
    "ExecuteTime": {
     "end_time": "2024-06-06T09:02:24.035736Z",
     "start_time": "2024-06-06T09:02:24.011156Z"
    }
   },
   "id": "9324f50e195e1b4f",
   "outputs": [],
   "execution_count": 38
  },
  {
   "metadata": {
    "ExecuteTime": {
     "end_time": "2024-06-06T09:02:24.521214Z",
     "start_time": "2024-06-06T09:02:24.038900Z"
    }
   },
   "cell_type": "code",
   "source": [
    "import pandas as pd\n",
    "import json\n",
    "\n",
    "# assume 'today' is your pandas dataframe with a datetime index\n",
    "\n",
    "# reset the index to include the date in the dictionary\n",
    "today_reset = today.reset_index().rename(columns={'Date': 'date'})\n",
    "\n",
    "# convert the datetime index to a string\n",
    "today_reset['date'] = today_reset['date'].dt.strftime('%Y-%m-%d %H:%M:%S')\n",
    "\n",
    "# convert dataframe to list of dictionaries\n",
    "list_of_dicts = today_reset.to_dict('records')\n",
    "\n",
    "# export to JSON file\n",
    "with open('Apple.json', 'w') as f:\n",
    "    json.dump(list_of_dicts, f, indent=4)"
   ],
   "id": "a402e31a3e19f70",
   "outputs": [],
   "execution_count": 39
  },
  {
   "metadata": {},
   "cell_type": "code",
   "outputs": [],
   "execution_count": null,
   "source": "",
   "id": "98b9900ee1252b99"
  }
 ],
 "metadata": {
  "kernelspec": {
   "display_name": "Python 3",
   "language": "python",
   "name": "python3"
  },
  "language_info": {
   "codemirror_mode": {
    "name": "ipython",
    "version": 2
   },
   "file_extension": ".py",
   "mimetype": "text/x-python",
   "name": "python",
   "nbconvert_exporter": "python",
   "pygments_lexer": "ipython2",
   "version": "2.7.6"
  }
 },
 "nbformat": 4,
 "nbformat_minor": 5
}
