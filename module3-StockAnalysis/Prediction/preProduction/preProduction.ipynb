{
 "cells": [
  {
   "cell_type": "code",
   "execution_count": 21,
   "id": "initial_id",
   "metadata": {
    "collapsed": true,
    "ExecuteTime": {
     "end_time": "2024-05-12T13:04:50.571570757Z",
     "start_time": "2024-05-12T13:04:50.565207172Z"
    }
   },
   "outputs": [],
   "source": [
    "import yfinance as yf\n",
    "import pandas as pd\n",
    "import numpy as np"
   ]
  },
  {
   "cell_type": "code",
   "outputs": [],
   "source": [
    "today = yf.Ticker(\"HDFCBANK.NS\")\n",
    "today = today.history(\"1d\")"
   ],
   "metadata": {
    "collapsed": false,
    "ExecuteTime": {
     "end_time": "2024-05-12T13:06:01.954072964Z",
     "start_time": "2024-05-12T13:06:01.537813716Z"
    }
   },
   "id": "33f3ca65044b3497",
   "execution_count": 30
  },
  {
   "cell_type": "code",
   "outputs": [],
   "source": [
    "cols = [\"Dividends\", \"Stock Splits\"]\n",
    "today = today.drop(columns=cols)\n",
    "today.index = pd.to_datetime(today.index)"
   ],
   "metadata": {
    "collapsed": false,
    "ExecuteTime": {
     "end_time": "2024-05-12T13:06:03.122691037Z",
     "start_time": "2024-05-12T13:06:03.109495281Z"
    }
   },
   "id": "9324f50e195e1b4f",
   "execution_count": 31
  },
  {
   "cell_type": "code",
   "outputs": [],
   "source": [
    "df_dict = today.to_dict(orient='records')"
   ],
   "metadata": {
    "collapsed": false,
    "ExecuteTime": {
     "end_time": "2024-05-12T14:30:44.297413422Z",
     "start_time": "2024-05-12T14:30:44.254545022Z"
    }
   },
   "id": "39c378314a69d48b",
   "execution_count": 39
  },
  {
   "cell_type": "code",
   "outputs": [
    {
     "data": {
      "text/plain": "[{'Open': 1439.0,\n  'High': 1451.949951171875,\n  'Low': 1426.800048828125,\n  'Close': 1437.9000244140625,\n  'Volume': 13638304}]"
     },
     "execution_count": 40,
     "metadata": {},
     "output_type": "execute_result"
    }
   ],
   "source": [
    "def display():\n",
    "    print(df_dict)"
   ],
   "metadata": {
    "collapsed": false,
    "ExecuteTime": {
     "end_time": "2024-05-12T14:30:47.885428970Z",
     "start_time": "2024-05-12T14:30:47.825299460Z"
    }
   },
   "id": "d4b2ab9691754781",
   "execution_count": 40
  },
  {
   "cell_type": "code",
   "outputs": [],
   "source": [],
   "metadata": {
    "collapsed": false
   },
   "id": "49848cd353a61308"
  }
 ],
 "metadata": {
  "kernelspec": {
   "display_name": "Python 3",
   "language": "python",
   "name": "python3"
  },
  "language_info": {
   "codemirror_mode": {
    "name": "ipython",
    "version": 2
   },
   "file_extension": ".py",
   "mimetype": "text/x-python",
   "name": "python",
   "nbconvert_exporter": "python",
   "pygments_lexer": "ipython2",
   "version": "2.7.6"
  }
 },
 "nbformat": 4,
 "nbformat_minor": 5
}
