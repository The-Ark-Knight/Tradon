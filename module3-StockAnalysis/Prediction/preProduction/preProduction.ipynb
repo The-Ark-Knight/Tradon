{
 "cells": [
  {
   "cell_type": "code",
   "execution_count": 21,
   "id": "initial_id",
   "metadata": {
    "collapsed": true,
    "ExecuteTime": {
     "end_time": "2024-05-12T13:04:50.571570757Z",
     "start_time": "2024-05-12T13:04:50.565207172Z"
    }
   },
   "outputs": [],
   "source": [
    "import yfinance as yf\n",
    "import pandas as pd\n",
    "import numpy as np"
   ]
  },
  {
   "cell_type": "code",
   "outputs": [],
   "source": [
    "today = yf.Ticker(\"HDFCBANK.NS\")\n",
    "today = today.history(\"1d\")"
   ],
   "metadata": {
    "collapsed": false,
    "ExecuteTime": {
     "end_time": "2024-05-12T13:06:01.954072964Z",
     "start_time": "2024-05-12T13:06:01.537813716Z"
    }
   },
   "id": "33f3ca65044b3497",
   "execution_count": 30
  },
  {
   "cell_type": "code",
   "outputs": [],
   "source": [
    "cols = [\"Dividends\", \"Stock Splits\"]\n",
    "today = today.drop(columns=cols)\n",
    "today.index = pd.to_datetime(today.index)"
   ],
   "metadata": {
    "collapsed": false,
    "ExecuteTime": {
     "end_time": "2024-05-12T13:06:03.122691037Z",
     "start_time": "2024-05-12T13:06:03.109495281Z"
    }
   },
   "id": "9324f50e195e1b4f",
   "execution_count": 31
  },
  {
   "cell_type": "code",
   "outputs": [
    {
     "data": {
      "text/plain": "                             Open         High          Low        Close  \\\nDate                                                                       \n2024-05-10 00:00:00+05:30  1439.0  1451.949951  1426.800049  1437.900024   \n\n                             Volume  \nDate                                 \n2024-05-10 00:00:00+05:30  13638304  ",
      "text/html": "<div>\n<style scoped>\n    .dataframe tbody tr th:only-of-type {\n        vertical-align: middle;\n    }\n\n    .dataframe tbody tr th {\n        vertical-align: top;\n    }\n\n    .dataframe thead th {\n        text-align: right;\n    }\n</style>\n<table border=\"1\" class=\"dataframe\">\n  <thead>\n    <tr style=\"text-align: right;\">\n      <th></th>\n      <th>Open</th>\n      <th>High</th>\n      <th>Low</th>\n      <th>Close</th>\n      <th>Volume</th>\n    </tr>\n    <tr>\n      <th>Date</th>\n      <th></th>\n      <th></th>\n      <th></th>\n      <th></th>\n      <th></th>\n    </tr>\n  </thead>\n  <tbody>\n    <tr>\n      <th>2024-05-10 00:00:00+05:30</th>\n      <td>1439.0</td>\n      <td>1451.949951</td>\n      <td>1426.800049</td>\n      <td>1437.900024</td>\n      <td>13638304</td>\n    </tr>\n  </tbody>\n</table>\n</div>"
     },
     "execution_count": 32,
     "metadata": {},
     "output_type": "execute_result"
    }
   ],
   "source": [
    "today"
   ],
   "metadata": {
    "collapsed": false,
    "ExecuteTime": {
     "end_time": "2024-05-12T13:06:03.533800680Z",
     "start_time": "2024-05-12T13:06:03.524249234Z"
    }
   },
   "id": "4af1b9a9cbfe9eab",
   "execution_count": 32
  },
  {
   "cell_type": "code",
   "outputs": [],
   "source": [],
   "metadata": {
    "collapsed": false
   },
   "id": "39c378314a69d48b"
  }
 ],
 "metadata": {
  "kernelspec": {
   "display_name": "Python 3",
   "language": "python",
   "name": "python3"
  },
  "language_info": {
   "codemirror_mode": {
    "name": "ipython",
    "version": 2
   },
   "file_extension": ".py",
   "mimetype": "text/x-python",
   "name": "python",
   "nbconvert_exporter": "python",
   "pygments_lexer": "ipython2",
   "version": "2.7.6"
  }
 },
 "nbformat": 4,
 "nbformat_minor": 5
}
