{
 "cells": [
  {
   "cell_type": "code",
   "outputs": [],
   "source": [
    "import yfinance as yf\n",
    "import pandas as pd\n",
    "import os\n",
    "\n",
    "sp500 = yf.Ticker(\"HDFCBANK.NS\")\n",
    "sp500 = sp500.history(period=\"max\")\n",
    "\n",
    "sp500[\"Tomorrow\"] = sp500[\"Close\"].shift(-1)\n",
    "sp500[\"Target\"] = (sp500[\"Tomorrow\"] > sp500[\"Close\"]).astype(int)"
   ],
   "metadata": {
    "collapsed": false,
    "ExecuteTime": {
     "end_time": "2024-05-12T09:59:44.553193368Z",
     "start_time": "2024-05-12T09:59:36.591828763Z"
    }
   },
   "id": "7c0687533ddf5170",
   "execution_count": 9
  },
  {
   "cell_type": "code",
   "outputs": [
    {
     "data": {
      "text/plain": "                                  Open         High          Low        Close  \\\nDate                                                                            \n1996-01-01 00:00:00+05:30     2.370141     2.370141     2.288007     2.331029   \n1996-01-02 00:00:00+05:30     2.331029     2.366230     2.307563     2.327118   \n1996-01-03 00:00:00+05:30     2.327118     2.342762     2.307562     2.334940   \n1996-01-04 00:00:00+05:30     2.334940     2.331029     2.299740     2.319295   \n1996-01-05 00:00:00+05:30     2.319295     2.331029     2.307562     2.315384   \n...                                ...          ...          ...          ...   \n2024-05-06 00:00:00+05:30  1501.496428  1513.828034  1496.711788  1502.137695   \n2024-05-07 00:00:00+05:30  1501.447064  1503.518870  1483.886928  1485.859985   \n2024-05-08 00:00:00+05:30  1475.797271  1476.783799  1460.407450  1462.676514   \n2024-05-09 00:00:00+05:30  1455.080159  1466.721244  1425.829685  1428.000000   \n2024-05-10 00:00:00+05:30  1439.000000  1451.949951  1426.800049  1437.900024   \n\n                             Volume  Dividends  Stock Splits     Tomorrow  \\\nDate                                                                        \n1996-01-01 00:00:00+05:30    350000        0.0           0.0     2.327118   \n1996-01-02 00:00:00+05:30    412000        0.0           0.0     2.334940   \n1996-01-03 00:00:00+05:30    284000        0.0           0.0     2.319295   \n1996-01-04 00:00:00+05:30    282000        0.0           0.0     2.315384   \n1996-01-05 00:00:00+05:30    189000        0.0           0.0     2.288007   \n...                             ...        ...           ...          ...   \n2024-05-06 00:00:00+05:30  14396698        0.0           0.0  1485.859985   \n2024-05-07 00:00:00+05:30  14240301        0.0           0.0  1462.676514   \n2024-05-08 00:00:00+05:30  20843931        0.0           0.0  1428.000000   \n2024-05-09 00:00:00+05:30  23140639        0.0           0.0  1437.900024   \n2024-05-10 00:00:00+05:30  13638304       19.5           0.0          NaN   \n\n                           Target  \nDate                               \n1996-01-01 00:00:00+05:30       0  \n1996-01-02 00:00:00+05:30       1  \n1996-01-03 00:00:00+05:30       0  \n1996-01-04 00:00:00+05:30       0  \n1996-01-05 00:00:00+05:30       0  \n...                           ...  \n2024-05-06 00:00:00+05:30       0  \n2024-05-07 00:00:00+05:30       0  \n2024-05-08 00:00:00+05:30       0  \n2024-05-09 00:00:00+05:30       1  \n2024-05-10 00:00:00+05:30       0  \n\n[7125 rows x 9 columns]",
      "text/html": "<div>\n<style scoped>\n    .dataframe tbody tr th:only-of-type {\n        vertical-align: middle;\n    }\n\n    .dataframe tbody tr th {\n        vertical-align: top;\n    }\n\n    .dataframe thead th {\n        text-align: right;\n    }\n</style>\n<table border=\"1\" class=\"dataframe\">\n  <thead>\n    <tr style=\"text-align: right;\">\n      <th></th>\n      <th>Open</th>\n      <th>High</th>\n      <th>Low</th>\n      <th>Close</th>\n      <th>Volume</th>\n      <th>Dividends</th>\n      <th>Stock Splits</th>\n      <th>Tomorrow</th>\n      <th>Target</th>\n    </tr>\n    <tr>\n      <th>Date</th>\n      <th></th>\n      <th></th>\n      <th></th>\n      <th></th>\n      <th></th>\n      <th></th>\n      <th></th>\n      <th></th>\n      <th></th>\n    </tr>\n  </thead>\n  <tbody>\n    <tr>\n      <th>1996-01-01 00:00:00+05:30</th>\n      <td>2.370141</td>\n      <td>2.370141</td>\n      <td>2.288007</td>\n      <td>2.331029</td>\n      <td>350000</td>\n      <td>0.0</td>\n      <td>0.0</td>\n      <td>2.327118</td>\n      <td>0</td>\n    </tr>\n    <tr>\n      <th>1996-01-02 00:00:00+05:30</th>\n      <td>2.331029</td>\n      <td>2.366230</td>\n      <td>2.307563</td>\n      <td>2.327118</td>\n      <td>412000</td>\n      <td>0.0</td>\n      <td>0.0</td>\n      <td>2.334940</td>\n      <td>1</td>\n    </tr>\n    <tr>\n      <th>1996-01-03 00:00:00+05:30</th>\n      <td>2.327118</td>\n      <td>2.342762</td>\n      <td>2.307562</td>\n      <td>2.334940</td>\n      <td>284000</td>\n      <td>0.0</td>\n      <td>0.0</td>\n      <td>2.319295</td>\n      <td>0</td>\n    </tr>\n    <tr>\n      <th>1996-01-04 00:00:00+05:30</th>\n      <td>2.334940</td>\n      <td>2.331029</td>\n      <td>2.299740</td>\n      <td>2.319295</td>\n      <td>282000</td>\n      <td>0.0</td>\n      <td>0.0</td>\n      <td>2.315384</td>\n      <td>0</td>\n    </tr>\n    <tr>\n      <th>1996-01-05 00:00:00+05:30</th>\n      <td>2.319295</td>\n      <td>2.331029</td>\n      <td>2.307562</td>\n      <td>2.315384</td>\n      <td>189000</td>\n      <td>0.0</td>\n      <td>0.0</td>\n      <td>2.288007</td>\n      <td>0</td>\n    </tr>\n    <tr>\n      <th>...</th>\n      <td>...</td>\n      <td>...</td>\n      <td>...</td>\n      <td>...</td>\n      <td>...</td>\n      <td>...</td>\n      <td>...</td>\n      <td>...</td>\n      <td>...</td>\n    </tr>\n    <tr>\n      <th>2024-05-06 00:00:00+05:30</th>\n      <td>1501.496428</td>\n      <td>1513.828034</td>\n      <td>1496.711788</td>\n      <td>1502.137695</td>\n      <td>14396698</td>\n      <td>0.0</td>\n      <td>0.0</td>\n      <td>1485.859985</td>\n      <td>0</td>\n    </tr>\n    <tr>\n      <th>2024-05-07 00:00:00+05:30</th>\n      <td>1501.447064</td>\n      <td>1503.518870</td>\n      <td>1483.886928</td>\n      <td>1485.859985</td>\n      <td>14240301</td>\n      <td>0.0</td>\n      <td>0.0</td>\n      <td>1462.676514</td>\n      <td>0</td>\n    </tr>\n    <tr>\n      <th>2024-05-08 00:00:00+05:30</th>\n      <td>1475.797271</td>\n      <td>1476.783799</td>\n      <td>1460.407450</td>\n      <td>1462.676514</td>\n      <td>20843931</td>\n      <td>0.0</td>\n      <td>0.0</td>\n      <td>1428.000000</td>\n      <td>0</td>\n    </tr>\n    <tr>\n      <th>2024-05-09 00:00:00+05:30</th>\n      <td>1455.080159</td>\n      <td>1466.721244</td>\n      <td>1425.829685</td>\n      <td>1428.000000</td>\n      <td>23140639</td>\n      <td>0.0</td>\n      <td>0.0</td>\n      <td>1437.900024</td>\n      <td>1</td>\n    </tr>\n    <tr>\n      <th>2024-05-10 00:00:00+05:30</th>\n      <td>1439.000000</td>\n      <td>1451.949951</td>\n      <td>1426.800049</td>\n      <td>1437.900024</td>\n      <td>13638304</td>\n      <td>19.5</td>\n      <td>0.0</td>\n      <td>NaN</td>\n      <td>0</td>\n    </tr>\n  </tbody>\n</table>\n<p>7125 rows × 9 columns</p>\n</div>"
     },
     "execution_count": 10,
     "metadata": {},
     "output_type": "execute_result"
    }
   ],
   "source": [
    "sp500"
   ],
   "metadata": {
    "collapsed": false,
    "ExecuteTime": {
     "end_time": "2024-05-12T09:59:46.706844053Z",
     "start_time": "2024-05-12T09:59:46.683387378Z"
    }
   },
   "id": "791fb91c257cee75",
   "execution_count": 10
  },
  {
   "cell_type": "code",
   "outputs": [],
   "source": [
    "cols = [\"Dividends\", \"Stock Splits\"]\n",
    "sp500 = sp500.drop(columns=cols)\n",
    "sp500.index = pd.to_datetime(sp500.index)"
   ],
   "metadata": {
    "collapsed": false,
    "ExecuteTime": {
     "end_time": "2024-05-12T09:59:49.929738530Z",
     "start_time": "2024-05-12T09:59:49.923233704Z"
    }
   },
   "id": "fc5e58cf9ebe91c0",
   "execution_count": 11
  },
  {
   "cell_type": "code",
   "outputs": [],
   "source": [
    "\n",
    "# this where the prediction will start\n",
    "from sklearn.ensemble import RandomForestClassifier\n",
    "from sklearn.metrics import precision_score\n",
    "\n",
    "def backtest(data, model, predictors, start=500, step=250):\n",
    "    all_predictions = []\n",
    "    for i in range(start, data.shape[0], step):\n",
    "        train = data.iloc[0:i].copy()\n",
    "        test = data.iloc[i:(i + step)].copy()\n",
    "        if train.shape[0] > 0 and test.shape[0] > 0:\n",
    "            predictions = predict(train, test, predictors, model)\n",
    "            all_predictions.append(predictions)\n",
    "        return pd.concat(all_predictions)\n",
    "\n",
    "horizons = [2, 5, 60, 250]\n",
    "new_predictors = []\n",
    "\n",
    "for horizon in horizons:\n",
    "    rolling_averages = sp500.rolling(horizon).mean()\n",
    "\n",
    "    ratio_column = f\"Close_Ratio_{horizon}\"\n",
    "    sp500[ratio_column] = sp500[\"Close\"] / rolling_averages[\"Close\"]\n",
    "\n",
    "    trend_column = f\"Trend_{horizon}\"\n",
    "    sp500[trend_column] = sp500.shift(1).rolling(horizon).sum()[\"Target\"]\n",
    "\n",
    "    new_predictors += [ratio_column, trend_column]\n",
    "sp500 = sp500.dropna(subset=sp500.columns[sp500.columns != \"Tomorrow\"])\n",
    "sp500\n",
    "model = RandomForestClassifier(n_estimators=200, min_samples_split=50, random_state=1)\n",
    "\n",
    "\n",
    "def predict(train, test, predictors, model):\n",
    "    model.fit(train[predictors], train[\"Target\"])\n",
    "    preds = model.predict_proba(test[predictors])[:, 1]\n",
    "    preds[preds >= .6] = 1\n",
    "    preds[preds < .6] = 0\n",
    "    preds = pd.Series(preds, index=test.index, name=\"Predictions\")\n",
    "    combined = pd.concat([test[\"Target\"], preds], axis=1)\n",
    "    return combined\n",
    "\n",
    "\n",
    "predictions = backtest(sp500, model, new_predictors)\n",
    "predictions[\"Predictions\"].value_counts()\n",
    "print(precision_score(predictions[\"Target\"], predictions[\"Predictions\"]))\n",
    "\n"
   ],
   "metadata": {
    "collapsed": false
   },
   "id": "f0ea29681fe8d5c5"
  }
 ],
 "metadata": {
  "kernelspec": {
   "display_name": "Python 3",
   "language": "python",
   "name": "python3"
  },
  "language_info": {
   "codemirror_mode": {
    "name": "ipython",
    "version": 2
   },
   "file_extension": ".py",
   "mimetype": "text/x-python",
   "name": "python",
   "nbconvert_exporter": "python",
   "pygments_lexer": "ipython2",
   "version": "2.7.6"
  }
 },
 "nbformat": 4,
 "nbformat_minor": 5
}
