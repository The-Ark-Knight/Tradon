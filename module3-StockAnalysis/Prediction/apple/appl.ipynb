{
 "cells": [
  {
   "cell_type": "code",
   "outputs": [],
   "source": [
    "import yfinance as yf\n",
    "import pandas as pd\n",
    "import os\n",
    "\n",
    "sp500 = yf.Ticker(\"AAPL\")\n",
    "sp500 = sp500.history(period=\"max\")\n",
    "\n",
    "sp500[\"Tomorrow\"] = sp500[\"Close\"].shift(-1)\n",
    "sp500[\"Target\"] = (sp500[\"Tomorrow\"] > sp500[\"Close\"]).astype(int)\n",
    "\n",
    "cols = [\"Dividends\", \"Stock Splits\"]\n",
    "sp500 = sp500.drop(columns=cols)\n",
    "sp500.index = pd.to_datetime(sp500.index)"
   ],
   "metadata": {
    "collapsed": false,
    "ExecuteTime": {
     "end_time": "2024-05-13T15:28:53.925567950Z",
     "start_time": "2024-05-13T15:28:29.119071793Z"
    }
   },
   "id": "c685609f72aba037",
   "execution_count": 1
  },
  {
   "cell_type": "code",
   "execution_count": 3,
   "id": "initial_id",
   "metadata": {
    "collapsed": true,
    "ExecuteTime": {
     "end_time": "2024-05-13T15:31:42.275977304Z",
     "start_time": "2024-05-13T15:31:42.039260469Z"
    }
   },
   "outputs": [
    {
     "name": "stdout",
     "output_type": "stream",
     "text": [
      "Output saved to output.json\n"
     ]
    }
   ],
   "source": [
    "import os\n",
    "import pandas as pd\n",
    "import json\n",
    "\n",
    "# Assuming sp500 is your DataFrame\n",
    "sp500.index = sp500.index.astype(str)\n",
    "df_dict = sp500.to_dict(orient='index')\n",
    "json_data = json.dumps(df_dict, indent=4)\n",
    "\n",
    "# Convert the data to the desired format\n",
    "custom_data = {}\n",
    "\n",
    "for i, (date, value) in enumerate(data.items(), 1):\n",
    "    custom_data[str(i)] = {\n",
    "        \"date\": date,\n",
    "        \"Open\": value[\"Open\"],\n",
    "        \"High\": value[\"High\"],\n",
    "        \"Low\": value[\"Low\"],\n",
    "        \"Close\": value[\"Close\"],\n",
    "        \"Volume\": value[\"Volume\"],\n",
    "        \"Tomorrow\": value[\"Tomorrow\"],\n",
    "        \"Target\": value[\"Target\"]\n",
    "    }\n",
    "\n",
    "# Write the custom data to a JSON file\n",
    "output_file = \"output.json\"\n",
    "with open(output_file, \"w\") as f:\n",
    "    json.dump(custom_data, f, indent=4)\n",
    "\n",
    "# Print the file name to let the user know where to find the output\n",
    "print(f\"Output saved to {output_file}\")"
   ]
  },
  {
   "cell_type": "code",
   "outputs": [],
   "source": [],
   "metadata": {
    "collapsed": false
   },
   "id": "204d9b7cbe7d434d"
  }
 ],
 "metadata": {
  "kernelspec": {
   "display_name": "Python 3",
   "language": "python",
   "name": "python3"
  },
  "language_info": {
   "codemirror_mode": {
    "name": "ipython",
    "version": 2
   },
   "file_extension": ".py",
   "mimetype": "text/x-python",
   "name": "python",
   "nbconvert_exporter": "python",
   "pygments_lexer": "ipython2",
   "version": "2.7.6"
  }
 },
 "nbformat": 4,
 "nbformat_minor": 5
}
