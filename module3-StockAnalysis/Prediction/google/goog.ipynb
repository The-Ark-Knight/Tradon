{
 "cells": [
  {
   "cell_type": "code",
   "outputs": [],
   "source": [
    "import yfinance as yf\n",
    "import pandas as pd\n",
    "import os\n",
    "\n",
    "\n",
    "sp500 = yf.Ticker(\"GOOG\")\n",
    "sp500 = sp500.history(period=\"max\")\n",
    "\n",
    "sp500[\"Tomorrow\"] = sp500[\"Close\"].shift(-1)\n",
    "sp500[\"Target\"] = (sp500[\"Tomorrow\"] > sp500[\"Close\"]).astype(int)\n",
    "\n",
    "cols = [\"Dividends\", \"Stock Splits\"]\n",
    "sp500 = sp500.drop(columns=cols)\n",
    "sp500.index = pd.to_datetime(sp500.index)"
   ],
   "metadata": {
    "collapsed": false,
    "ExecuteTime": {
     "end_time": "2024-05-13T15:42:22.414372516Z",
     "start_time": "2024-05-13T15:42:12.447830773Z"
    }
   },
   "id": "44b8b78ab301816c",
   "execution_count": 7
  },
  {
   "cell_type": "code",
   "execution_count": 9,
   "id": "initial_id",
   "metadata": {
    "collapsed": true,
    "ExecuteTime": {
     "end_time": "2024-05-13T15:44:55.361595922Z",
     "start_time": "2024-05-13T15:44:48.571157813Z"
    }
   },
   "outputs": [
    {
     "name": "stdout",
     "output_type": "stream",
     "text": [
      "Output saved to output.json\n"
     ]
    }
   ],
   "source": [
    "import yfinance as yf\n",
    "import pandas as pd\n",
    "import os\n",
    "\n",
    "\n",
    "sp500 = yf.Ticker(\"HAL\")\n",
    "sp500 = sp500.history(period=\"max\")\n",
    "\n",
    "sp500[\"Tomorrow\"] = sp500[\"Close\"].shift(-1)\n",
    "sp500[\"Target\"] = (sp500[\"Tomorrow\"] > sp500[\"Close\"]).astype(int)\n",
    "\n",
    "cols = [\"Dividends\", \"Stock Splits\"]\n",
    "sp500 = sp500.drop(columns=cols)\n",
    "sp500.index = pd.to_datetime(sp500.index)\n",
    "\n",
    "import os\n",
    "import pandas as pd\n",
    "import json\n",
    "\n",
    "# Assuming sp500 is your DataFrame\n",
    "sp500.index = sp500.index.astype(str)\n",
    "df_dict = sp500.to_dict(orient='records')\n",
    "json_data = json.dumps(df_dict, indent=4)\n",
    "\n",
    "# Convert the data to the desired format\n",
    "custom_data = {}\n",
    "\n",
    "for i, row in enumerate(sp500.iterrows(), 1):\n",
    "    custom_data[str(i)] = {\n",
    "        \"date\": row[0],\n",
    "        \"Open\": row[1][\"Open\"],\n",
    "        \"High\": row[1][\"High\"],\n",
    "        \"Low\": row[1][\"Low\"],\n",
    "        \"Close\": row[1][\"Close\"],\n",
    "        \"Volume\": row[1][\"Volume\"],\n",
    "        \"Tomorrow\": row[1][\"Tomorrow\"],\n",
    "        \"Target\": row[1][\"Target\"]\n",
    "    }\n",
    "\n",
    "# Write the custom data to a JSON file\n",
    "output_file = \"output.json\"\n",
    "with open(output_file, \"w\") as f:\n",
    "    json.dump(custom_data, f, indent=4)\n",
    "\n",
    "# Print the file name to let the user know where to find the output\n",
    "print(f\"Output saved to {output_file}\")"
   ]
  },
  {
   "cell_type": "code",
   "outputs": [],
   "source": [],
   "metadata": {
    "collapsed": false
   },
   "id": "be960bf3ae5f1a41"
  }
 ],
 "metadata": {
  "kernelspec": {
   "display_name": "Python 3",
   "language": "python",
   "name": "python3"
  },
  "language_info": {
   "codemirror_mode": {
    "name": "ipython",
    "version": 2
   },
   "file_extension": ".py",
   "mimetype": "text/x-python",
   "name": "python",
   "nbconvert_exporter": "python",
   "pygments_lexer": "ipython2",
   "version": "2.7.6"
  }
 },
 "nbformat": 4,
 "nbformat_minor": 5
}
