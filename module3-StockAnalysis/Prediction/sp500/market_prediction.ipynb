{
 "cells": [
  {
   "cell_type": "code",
   "execution_count": 6,
   "id": "449e6da1-075f-4adc-b567-558be3e2cea5",
   "metadata": {},
   "outputs": [
    {
     "name": "stdout",
     "output_type": "stream",
     "text": [
      "Requirement already satisfied: yfinance in /home/thearkknight/01PROJECTS/Tradon/.env/lib/python3.12/site-packages (0.2.38)\n",
      "Requirement already satisfied: pandas>=1.3.0 in /home/thearkknight/01PROJECTS/Tradon/.env/lib/python3.12/site-packages (from yfinance) (2.2.2)\n",
      "Requirement already satisfied: numpy>=1.16.5 in /home/thearkknight/.local/lib/python3.12/site-packages (from yfinance) (1.26.4)\n",
      "Requirement already satisfied: requests>=2.31 in /home/thearkknight/01PROJECTS/Tradon/.env/lib/python3.12/site-packages (from yfinance) (2.31.0)\n",
      "Requirement already satisfied: multitasking>=0.0.7 in /home/thearkknight/01PROJECTS/Tradon/.env/lib/python3.12/site-packages (from yfinance) (0.0.11)\n",
      "Requirement already satisfied: lxml>=4.9.1 in /home/thearkknight/01PROJECTS/Tradon/.env/lib/python3.12/site-packages (from yfinance) (4.9.3)\n",
      "Requirement already satisfied: appdirs>=1.4.4 in /home/thearkknight/01PROJECTS/Tradon/.env/lib/python3.12/site-packages (from yfinance) (1.4.4)\n",
      "Requirement already satisfied: pytz>=2022.5 in /home/thearkknight/01PROJECTS/Tradon/.env/lib/python3.12/site-packages (from yfinance) (2024.1)\n",
      "Requirement already satisfied: frozendict>=2.3.4 in /home/thearkknight/01PROJECTS/Tradon/.env/lib/python3.12/site-packages (from yfinance) (2.4.4)\n",
      "Requirement already satisfied: peewee>=3.16.2 in /home/thearkknight/01PROJECTS/Tradon/.env/lib/python3.12/site-packages (from yfinance) (3.17.5)\n",
      "Requirement already satisfied: beautifulsoup4>=4.11.1 in /home/thearkknight/01PROJECTS/Tradon/.env/lib/python3.12/site-packages (from yfinance) (4.12.2)\n",
      "Requirement already satisfied: html5lib>=1.1 in /home/thearkknight/01PROJECTS/Tradon/.env/lib/python3.12/site-packages (from yfinance) (1.1)\n",
      "Requirement already satisfied: soupsieve>1.2 in /home/thearkknight/01PROJECTS/Tradon/.env/lib/python3.12/site-packages (from beautifulsoup4>=4.11.1->yfinance) (2.5)\n",
      "Requirement already satisfied: six>=1.9 in /home/thearkknight/01PROJECTS/Tradon/.env/lib/python3.12/site-packages (from html5lib>=1.1->yfinance) (1.16.0)\n",
      "Requirement already satisfied: webencodings in /home/thearkknight/01PROJECTS/Tradon/.env/lib/python3.12/site-packages (from html5lib>=1.1->yfinance) (0.5.1)\n",
      "Requirement already satisfied: python-dateutil>=2.8.2 in /home/thearkknight/01PROJECTS/Tradon/.env/lib/python3.12/site-packages (from pandas>=1.3.0->yfinance) (2.9.0.post0)\n",
      "Requirement already satisfied: tzdata>=2022.7 in /home/thearkknight/01PROJECTS/Tradon/.env/lib/python3.12/site-packages (from pandas>=1.3.0->yfinance) (2024.1)\n",
      "Requirement already satisfied: charset-normalizer<4,>=2 in /home/thearkknight/01PROJECTS/Tradon/.env/lib/python3.12/site-packages (from requests>=2.31->yfinance) (3.3.2)\n",
      "Requirement already satisfied: idna<4,>=2.5 in /home/thearkknight/01PROJECTS/Tradon/.env/lib/python3.12/site-packages (from requests>=2.31->yfinance) (3.7)\n",
      "Requirement already satisfied: urllib3<3,>=1.21.1 in /home/thearkknight/01PROJECTS/Tradon/.env/lib/python3.12/site-packages (from requests>=2.31->yfinance) (2.2.1)\n",
      "Requirement already satisfied: certifi>=2017.4.17 in /home/thearkknight/01PROJECTS/Tradon/.env/lib/python3.12/site-packages (from requests>=2.31->yfinance) (2024.2.2)\n"
     ]
    }
   ],
   "source": [
    "! pip install yfinance"
   ]
  },
  {
   "cell_type": "code",
   "execution_count": 7,
   "id": "f53fcbbf-a62d-4aa2-be7b-9aa4e17a5e48",
   "metadata": {
    "ExecuteTime": {
     "end_time": "2024-05-11T11:53:57.882153261Z",
     "start_time": "2024-05-11T11:53:57.768034540Z"
    }
   },
   "outputs": [
    {
     "ename": "ModuleNotFoundError",
     "evalue": "No module named 'yfinance'",
     "output_type": "error",
     "traceback": [
      "\u001B[0;31m---------------------------------------------------------------------------\u001B[0m",
      "\u001B[0;31mModuleNotFoundError\u001B[0m                       Traceback (most recent call last)",
      "Cell \u001B[0;32mIn[7], line 1\u001B[0m\n\u001B[0;32m----> 1\u001B[0m \u001B[38;5;28;01mimport\u001B[39;00m \u001B[38;5;21;01myfinance\u001B[39;00m \u001B[38;5;28;01mas\u001B[39;00m \u001B[38;5;21;01myf\u001B[39;00m\n\u001B[1;32m      2\u001B[0m \u001B[38;5;28;01mimport\u001B[39;00m \u001B[38;5;21;01mpandas\u001B[39;00m \u001B[38;5;28;01mas\u001B[39;00m \u001B[38;5;21;01mpd\u001B[39;00m\n\u001B[1;32m      3\u001B[0m \u001B[38;5;28;01mimport\u001B[39;00m \u001B[38;5;21;01mos\u001B[39;00m\n",
      "\u001B[0;31mModuleNotFoundError\u001B[0m: No module named 'yfinance'"
     ]
    }
   ],
   "source": [
    "import yfinance as yf\n",
    "import pandas as pd\n",
    "import os"
   ]
  },
  {
   "cell_type": "code",
   "execution_count": null,
   "id": "0c4d2b51-1187-44c7-a281-da84d0381dd5",
   "metadata": {
    "ExecuteTime": {
     "end_time": "2024-05-11T11:53:57.905673622Z",
     "start_time": "2024-05-11T11:53:57.839630647Z"
    }
   },
   "outputs": [],
   "source": [
    "if os.path.exists(\"sp500.csv\"):\n",
    "    sp500 = pd.read_csv(\"sp500.csv\", index_col=0)\n",
    "else:\n",
    "    sp500 = yf.Ticker(\"^GSPC\")\n",
    "    sp500 = sp500.history(period=\"max\")\n",
    "    sp500.to_csv(\"sp500.csv\")"
   ]
  },
  {
   "cell_type": "code",
   "outputs": [
    {
     "data": {
      "text/plain": "                                  Open         High          Low        Close  \\\nDate                                                                            \n1927-12-30 00:00:00-05:00    17.660000    17.660000    17.660000    17.660000   \n1928-01-03 00:00:00-05:00    17.760000    17.760000    17.760000    17.760000   \n1928-01-04 00:00:00-05:00    17.719999    17.719999    17.719999    17.719999   \n1928-01-05 00:00:00-05:00    17.549999    17.549999    17.549999    17.549999   \n1928-01-06 00:00:00-05:00    17.660000    17.660000    17.660000    17.660000   \n...                                ...          ...          ...          ...   \n2024-05-06 00:00:00-04:00  5142.419922  5181.000000  5142.419922  5180.740234   \n2024-05-07 00:00:00-04:00  5187.200195  5200.229980  5178.959961  5187.700195   \n2024-05-08 00:00:00-04:00  5168.979980  5191.950195  5165.859863  5187.669922   \n2024-05-09 00:00:00-04:00  5189.029785  5215.299805  5180.410156  5214.080078   \n2024-05-10 00:00:00-04:00  5225.490234  5239.660156  5209.680176  5222.680176   \n\n                               Volume     Tomorrow  Target  \nDate                                                        \n1927-12-30 00:00:00-05:00           0    17.760000       1  \n1928-01-03 00:00:00-05:00           0    17.719999       0  \n1928-01-04 00:00:00-05:00           0    17.549999       0  \n1928-01-05 00:00:00-05:00           0    17.660000       1  \n1928-01-06 00:00:00-05:00           0    17.500000       0  \n...                               ...          ...     ...  \n2024-05-06 00:00:00-04:00  3683250000  5187.700195       1  \n2024-05-07 00:00:00-04:00  3987890000  5187.669922       0  \n2024-05-08 00:00:00-04:00  3842100000  5214.080078       1  \n2024-05-09 00:00:00-04:00  3727370000  5222.680176       1  \n2024-05-10 00:00:00-04:00  3617900000          NaN       0  \n\n[24206 rows x 7 columns]",
      "text/html": "<div>\n<style scoped>\n    .dataframe tbody tr th:only-of-type {\n        vertical-align: middle;\n    }\n\n    .dataframe tbody tr th {\n        vertical-align: top;\n    }\n\n    .dataframe thead th {\n        text-align: right;\n    }\n</style>\n<table border=\"1\" class=\"dataframe\">\n  <thead>\n    <tr style=\"text-align: right;\">\n      <th></th>\n      <th>Open</th>\n      <th>High</th>\n      <th>Low</th>\n      <th>Close</th>\n      <th>Volume</th>\n      <th>Tomorrow</th>\n      <th>Target</th>\n    </tr>\n    <tr>\n      <th>Date</th>\n      <th></th>\n      <th></th>\n      <th></th>\n      <th></th>\n      <th></th>\n      <th></th>\n      <th></th>\n    </tr>\n  </thead>\n  <tbody>\n    <tr>\n      <th>1927-12-30 00:00:00-05:00</th>\n      <td>17.660000</td>\n      <td>17.660000</td>\n      <td>17.660000</td>\n      <td>17.660000</td>\n      <td>0</td>\n      <td>17.760000</td>\n      <td>1</td>\n    </tr>\n    <tr>\n      <th>1928-01-03 00:00:00-05:00</th>\n      <td>17.760000</td>\n      <td>17.760000</td>\n      <td>17.760000</td>\n      <td>17.760000</td>\n      <td>0</td>\n      <td>17.719999</td>\n      <td>0</td>\n    </tr>\n    <tr>\n      <th>1928-01-04 00:00:00-05:00</th>\n      <td>17.719999</td>\n      <td>17.719999</td>\n      <td>17.719999</td>\n      <td>17.719999</td>\n      <td>0</td>\n      <td>17.549999</td>\n      <td>0</td>\n    </tr>\n    <tr>\n      <th>1928-01-05 00:00:00-05:00</th>\n      <td>17.549999</td>\n      <td>17.549999</td>\n      <td>17.549999</td>\n      <td>17.549999</td>\n      <td>0</td>\n      <td>17.660000</td>\n      <td>1</td>\n    </tr>\n    <tr>\n      <th>1928-01-06 00:00:00-05:00</th>\n      <td>17.660000</td>\n      <td>17.660000</td>\n      <td>17.660000</td>\n      <td>17.660000</td>\n      <td>0</td>\n      <td>17.500000</td>\n      <td>0</td>\n    </tr>\n    <tr>\n      <th>...</th>\n      <td>...</td>\n      <td>...</td>\n      <td>...</td>\n      <td>...</td>\n      <td>...</td>\n      <td>...</td>\n      <td>...</td>\n    </tr>\n    <tr>\n      <th>2024-05-06 00:00:00-04:00</th>\n      <td>5142.419922</td>\n      <td>5181.000000</td>\n      <td>5142.419922</td>\n      <td>5180.740234</td>\n      <td>3683250000</td>\n      <td>5187.700195</td>\n      <td>1</td>\n    </tr>\n    <tr>\n      <th>2024-05-07 00:00:00-04:00</th>\n      <td>5187.200195</td>\n      <td>5200.229980</td>\n      <td>5178.959961</td>\n      <td>5187.700195</td>\n      <td>3987890000</td>\n      <td>5187.669922</td>\n      <td>0</td>\n    </tr>\n    <tr>\n      <th>2024-05-08 00:00:00-04:00</th>\n      <td>5168.979980</td>\n      <td>5191.950195</td>\n      <td>5165.859863</td>\n      <td>5187.669922</td>\n      <td>3842100000</td>\n      <td>5214.080078</td>\n      <td>1</td>\n    </tr>\n    <tr>\n      <th>2024-05-09 00:00:00-04:00</th>\n      <td>5189.029785</td>\n      <td>5215.299805</td>\n      <td>5180.410156</td>\n      <td>5214.080078</td>\n      <td>3727370000</td>\n      <td>5222.680176</td>\n      <td>1</td>\n    </tr>\n    <tr>\n      <th>2024-05-10 00:00:00-04:00</th>\n      <td>5225.490234</td>\n      <td>5239.660156</td>\n      <td>5209.680176</td>\n      <td>5222.680176</td>\n      <td>3617900000</td>\n      <td>NaN</td>\n      <td>0</td>\n    </tr>\n  </tbody>\n</table>\n<p>24206 rows × 7 columns</p>\n</div>"
     },
     "execution_count": 24,
     "metadata": {},
     "output_type": "execute_result"
    }
   ],
   "source": [
    "sp500"
   ],
   "metadata": {
    "collapsed": false,
    "ExecuteTime": {
     "end_time": "2024-05-11T12:12:01.168971618Z",
     "start_time": "2024-05-11T12:12:01.126622367Z"
    }
   },
   "id": "d14f8f011f4b4c9c",
   "execution_count": 24
  },
  {
   "cell_type": "code",
   "execution_count": null,
   "id": "f605b43c-8db9-43ae-b2d4-29fc6048b8aa",
   "metadata": {
    "ExecuteTime": {
     "end_time": "2024-05-11T11:53:57.978265151Z",
     "start_time": "2024-05-11T11:53:57.911683597Z"
    }
   },
   "outputs": [],
   "source": [
    "sp500.index = pd.to_datetime(sp500.index)"
   ]
  },
  {
   "cell_type": "code",
   "execution_count": null,
   "id": "1b02b64d-9eef-489f-894d-26f9e6792db5",
   "metadata": {
    "ExecuteTime": {
     "end_time": "2024-05-11T11:53:58.006621176Z",
     "start_time": "2024-05-11T11:53:57.978755852Z"
    }
   },
   "outputs": [],
   "source": [
    "del sp500[\"Dividends\"]\n",
    "del sp500[\"Stock Splits\"]"
   ]
  },
  {
   "cell_type": "code",
   "execution_count": null,
   "id": "f25e1594-1cd2-47ae-bb50-a0d17ac35c69",
   "metadata": {
    "ExecuteTime": {
     "end_time": "2024-05-11T11:53:58.007572043Z",
     "start_time": "2024-05-11T11:53:57.979043363Z"
    }
   },
   "outputs": [],
   "source": [
    "sp500[\"Tomorrow\"] = sp500[\"Close\"].shift(-1)"
   ]
  },
  {
   "cell_type": "code",
   "execution_count": null,
   "id": "871b16a1-9d77-40c8-8564-1947b438a113",
   "metadata": {
    "ExecuteTime": {
     "end_time": "2024-05-11T11:53:58.067862625Z",
     "start_time": "2024-05-11T11:53:57.979217509Z"
    }
   },
   "outputs": [],
   "source": [
    "sp500[\"Target\"] = (sp500[\"Tomorrow\"] > sp500[\"Close\"]).astype(int)"
   ]
  },
  {
   "cell_type": "code",
   "execution_count": null,
   "id": "79e58626-3be6-45f7-b1aa-1786593e3bd6",
   "metadata": {
    "ExecuteTime": {
     "end_time": "2024-05-11T11:53:58.898507581Z",
     "start_time": "2024-05-11T11:53:58.005808465Z"
    }
   },
   "outputs": [],
   "source": [
    "sp500 = sp500.loc[\"1990-01-01\":].copy()"
   ]
  },
  {
   "cell_type": "code",
   "execution_count": null,
   "id": "ad95d689-520a-4141-ab6e-a0fe3f9697a6",
   "metadata": {
    "ExecuteTime": {
     "start_time": "2024-05-11T11:53:58.897926222Z"
    }
   },
   "outputs": [],
   "source": [
    "from sklearn.ensemble import RandomForestClassifier\n",
    "\n",
    "model = RandomForestClassifier(n_estimators=100, min_samples_split=100, random_state=1)\n",
    "\n",
    "train = sp500.iloc[:-100]\n",
    "test = sp500.iloc[-100:]\n",
    "\n",
    "predictors = [\"Close\", \"Volume\", \"Open\", \"High\", \"Low\"]\n",
    "model.fit(train[predictors], train[\"Target\"])"
   ]
  },
  {
   "cell_type": "code",
   "execution_count": null,
   "id": "c0837787-5d4e-4a20-ad0d-3a546bc23cdb",
   "metadata": {
    "ExecuteTime": {
     "end_time": "2024-05-11T11:53:58.990939555Z",
     "start_time": "2024-05-11T11:53:58.925138850Z"
    }
   },
   "outputs": [],
   "source": [
    "from sklearn.metrics import precision_score\n",
    "\n",
    "preds = model.predict(test[predictors])\n",
    "preds = pd.Series(preds, index=test.index)\n",
    "precision_score(test[\"Target\"],preds,zero_division=\"warn\")"
   ]
  },
  {
   "cell_type": "code",
   "execution_count": null,
   "id": "e33e349f-8365-4282-91db-3b5824e83262",
   "metadata": {
    "ExecuteTime": {
     "start_time": "2024-05-11T11:53:58.925437813Z"
    }
   },
   "outputs": [],
   "source": [
    "combined = pd.concat([test[\"Target\"], preds], axis=1)\n",
    "combined.plot()"
   ]
  },
  {
   "cell_type": "code",
   "execution_count": null,
   "id": "d4049497-0ee7-4399-83ab-ef61ccf71133",
   "metadata": {
    "ExecuteTime": {
     "start_time": "2024-05-11T11:53:58.925666110Z"
    }
   },
   "outputs": [],
   "source": [
    "def predict(train, test, predictors, model):\n",
    "    model.fit(train[predictors], train[\"Target\"])\n",
    "    preds = model.predict(test[predictors])\n",
    "    preds = pd.Series(preds, index=test.index, name=\"Predictions\")\n",
    "    combined = pd.concat([test[\"Target\"], preds], axis=1)\n",
    "    return combined"
   ]
  },
  {
   "cell_type": "code",
   "execution_count": null,
   "id": "ca97d93a-6841-49ef-8f91-25a713baef16",
   "metadata": {
    "ExecuteTime": {
     "start_time": "2024-05-11T11:53:58.925845887Z"
    }
   },
   "outputs": [],
   "source": [
    "def backtest(data, model, predictors, start=2500, step=250):\n",
    "    all_predictions = []\n",
    "\n",
    "    for i in range(start, data.shape[0], step):\n",
    "        train = data.iloc[0:i].copy()\n",
    "        test = data.iloc[i:(i+step)].copy()\n",
    "        predictions = predict(train, test, predictors, model)\n",
    "        all_predictions.append(predictions)\n",
    "    \n",
    "    return pd.concat(all_predictions)"
   ]
  },
  {
   "cell_type": "code",
   "execution_count": null,
   "id": "8a75261f-d2de-4bc6-9364-54d520c63985",
   "metadata": {
    "ExecuteTime": {
     "start_time": "2024-05-11T11:53:58.925984928Z"
    }
   },
   "outputs": [],
   "source": [
    "predictions = backtest(sp500, model, predictors)"
   ]
  },
  {
   "cell_type": "code",
   "execution_count": null,
   "id": "439d8704-c55d-4d1f-a709-acdc0f485e87",
   "metadata": {
    "ExecuteTime": {
     "start_time": "2024-05-11T11:53:58.926125186Z"
    }
   },
   "outputs": [],
   "source": [
    "predictions[\"Predictions\"].value_counts()"
   ]
  },
  {
   "cell_type": "code",
   "execution_count": 5,
   "id": "bf105e8f-6be5-4494-9658-233761f1c4f4",
   "metadata": {
    "ExecuteTime": {
     "start_time": "2024-05-11T11:53:58.926395903Z"
    }
   },
   "outputs": [
    {
     "ename": "NameError",
     "evalue": "name 'precision_score' is not defined",
     "output_type": "error",
     "traceback": [
      "\u001B[0;31m---------------------------------------------------------------------------\u001B[0m",
      "\u001B[0;31mNameError\u001B[0m                                 Traceback (most recent call last)",
      "Cell \u001B[0;32mIn[5], line 1\u001B[0m\n\u001B[0;32m----> 1\u001B[0m \u001B[43mprecision_score\u001B[49m(predictions[\u001B[38;5;124m\"\u001B[39m\u001B[38;5;124mTarget\u001B[39m\u001B[38;5;124m\"\u001B[39m], predictions[\u001B[38;5;124m\"\u001B[39m\u001B[38;5;124mPredictions\u001B[39m\u001B[38;5;124m\"\u001B[39m])\n",
      "\u001B[0;31mNameError\u001B[0m: name 'precision_score' is not defined"
     ]
    }
   ],
   "source": [
    "precision_score(predictions[\"Target\"], predictions[\"Predictions\"])"
   ]
  },
  {
   "cell_type": "code",
   "execution_count": null,
   "id": "eff25a20-375e-444a-b5d3-b558753fc817",
   "metadata": {
    "ExecuteTime": {
     "start_time": "2024-05-11T11:53:58.926524737Z"
    }
   },
   "outputs": [],
   "source": [
    "predictions[\"Target\"].value_counts() / predictions.shape[0]"
   ]
  },
  {
   "cell_type": "code",
   "execution_count": null,
   "id": "ed05ece5-f1f4-443a-b179-33c7e709ea4d",
   "metadata": {
    "ExecuteTime": {
     "start_time": "2024-05-11T11:53:58.926644661Z"
    }
   },
   "outputs": [],
   "source": [
    "horizons = [2,5,60,250,1000]\n",
    "new_predictors = []\n",
    "\n",
    "for horizon in horizons:\n",
    "    rolling_averages = sp500.rolling(horizon).mean()\n",
    "    \n",
    "    ratio_column = f\"Close_Ratio_{horizon}\"\n",
    "    sp500[ratio_column] = sp500[\"Close\"] / rolling_averages[\"Close\"]\n",
    "    \n",
    "    trend_column = f\"Trend_{horizon}\"\n",
    "    sp500[trend_column] = sp500.shift(1).rolling(horizon).sum()[\"Target\"]\n",
    "    \n",
    "    new_predictors+= [ratio_column, trend_column]"
   ]
  },
  {
   "cell_type": "code",
   "execution_count": null,
   "id": "6c04ab2d-64ff-4f56-a206-605dcce30372",
   "metadata": {
    "ExecuteTime": {
     "start_time": "2024-05-11T11:53:58.926819028Z"
    }
   },
   "outputs": [],
   "source": [
    "sp500 = sp500.dropna(subset=sp500.columns[sp500.columns != \"Tomorrow\"])"
   ]
  },
  {
   "cell_type": "code",
   "execution_count": null,
   "id": "fd7b2523-85a4-477d-975d-9cf64b1ff557",
   "metadata": {
    "ExecuteTime": {
     "start_time": "2024-05-11T11:53:58.926920498Z"
    }
   },
   "outputs": [],
   "source": [
    "sp500"
   ]
  },
  {
   "cell_type": "code",
   "execution_count": null,
   "id": "283be581-dbe1-4f02-8851-ff1a027b4104",
   "metadata": {
    "ExecuteTime": {
     "start_time": "2024-05-11T11:53:58.927014890Z"
    }
   },
   "outputs": [],
   "source": [
    "model = RandomForestClassifier(n_estimators=200, min_samples_split=50, random_state=1)"
   ]
  },
  {
   "cell_type": "code",
   "execution_count": null,
   "id": "a843303c-a247-4f6d-9505-cc711ca95afa",
   "metadata": {
    "ExecuteTime": {
     "start_time": "2024-05-11T11:53:58.927112309Z"
    }
   },
   "outputs": [],
   "source": [
    "def predict(train, test, predictors, model):\n",
    "    model.fit(train[predictors], train[\"Target\"])\n",
    "    preds = model.predict_proba(test[predictors])[:,1]\n",
    "    preds[preds >=.6] = 1\n",
    "    preds[preds <.6] = 0\n",
    "    preds = pd.Series(preds, index=test.index, name=\"Predictions\")\n",
    "    combined = pd.concat([test[\"Target\"], preds], axis=1)\n",
    "    return combined"
   ]
  },
  {
   "cell_type": "code",
   "execution_count": null,
   "id": "fb820946-1275-4914-b6a8-355e96f315b6",
   "metadata": {
    "ExecuteTime": {
     "start_time": "2024-05-11T11:53:58.927219372Z"
    }
   },
   "outputs": [],
   "source": [
    "predictions = backtest(sp500, model, new_predictors)"
   ]
  },
  {
   "cell_type": "code",
   "execution_count": null,
   "id": "a73e1816-283a-47ac-af43-4550b80307ef",
   "metadata": {
    "ExecuteTime": {
     "start_time": "2024-05-11T11:53:58.927397628Z"
    }
   },
   "outputs": [],
   "source": [
    "predictions[\"Predictions\"].value_counts()"
   ]
  },
  {
   "cell_type": "code",
   "execution_count": null,
   "id": "14acc336-4991-4189-bb16-4a8bf53056e1",
   "metadata": {
    "ExecuteTime": {
     "start_time": "2024-05-11T11:53:58.927559534Z"
    }
   },
   "outputs": [],
   "source": [
    "precision_score(predictions[\"Target\"], predictions[\"Predictions\"])"
   ]
  },
  {
   "cell_type": "code",
   "execution_count": null,
   "id": "21b3d365-2157-4229-a785-ae687da0f21f",
   "metadata": {
    "ExecuteTime": {
     "start_time": "2024-05-11T11:53:58.927701138Z"
    }
   },
   "outputs": [],
   "source": [
    "predictions[\"Target\"].value_counts() / predictions.shape[0]"
   ]
  },
  {
   "cell_type": "code",
   "execution_count": null,
   "id": "ef08fff5-0dd5-4d86-9d0d-8ce9f7443865",
   "metadata": {
    "ExecuteTime": {
     "start_time": "2024-05-11T11:53:58.927902515Z"
    }
   },
   "outputs": [],
   "source": [
    "predictions"
   ]
  },
  {
   "cell_type": "code",
   "execution_count": null,
   "id": "b2d35fd3-7038-4e69-bcbd-bde42c1f5e33",
   "metadata": {
    "ExecuteTime": {
     "start_time": "2024-05-11T11:53:58.928036351Z"
    }
   },
   "outputs": [],
   "source": []
  }
 ],
 "metadata": {
  "kernelspec": {
   "display_name": "Python 3 (ipykernel)",
   "language": "python",
   "name": "python3"
  },
  "language_info": {
   "codemirror_mode": {
    "name": "ipython",
    "version": 3
   },
   "file_extension": ".py",
   "mimetype": "text/x-python",
   "name": "python",
   "nbconvert_exporter": "python",
   "pygments_lexer": "ipython3",
   "version": "3.12.3"
  }
 },
 "nbformat": 4,
 "nbformat_minor": 5
}
