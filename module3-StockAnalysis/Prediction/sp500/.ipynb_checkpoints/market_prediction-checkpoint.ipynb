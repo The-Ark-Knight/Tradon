{
 "cells": [
  {
   "cell_type": "code",
   "execution_count": 17,
   "id": "f53fcbbf-a62d-4aa2-be7b-9aa4e17a5e48",
   "metadata": {
    "ExecuteTime": {
     "end_time": "2024-05-11T11:53:57.882153261Z",
     "start_time": "2024-05-11T11:53:57.768034540Z"
    }
   },
   "outputs": [],
   "source": [
    "import yfinance as yf\n",
    "import pandas as pd\n",
    "import os"
   ]
  },
  {
   "cell_type": "code",
   "execution_count": 18,
   "id": "0c4d2b51-1187-44c7-a281-da84d0381dd5",
   "metadata": {
    "ExecuteTime": {
     "end_time": "2024-05-11T11:53:57.905673622Z",
     "start_time": "2024-05-11T11:53:57.839630647Z"
    }
   },
   "outputs": [],
   "source": [
    "if os.path.exists(\"sp500.csv\"):\n",
    "    sp500 = pd.read_csv(\"sp500.csv\", index_col=0)\n",
    "else:\n",
    "    sp500 = yf.Ticker(\"^GSPC\")\n",
    "    sp500 = sp500.history(period=\"max\")\n",
    "    sp500.to_csv(\"sp500.csv\")"
   ]
  },
  {
   "cell_type": "code",
   "execution_count": 19,
   "id": "f605b43c-8db9-43ae-b2d4-29fc6048b8aa",
   "metadata": {
    "ExecuteTime": {
     "end_time": "2024-05-11T11:53:57.978265151Z",
     "start_time": "2024-05-11T11:53:57.911683597Z"
    }
   },
   "outputs": [
    {
     "name": "stderr",
     "output_type": "stream",
     "text": [
      "/tmp/ipykernel_31776/2003460346.py:1: FutureWarning: In a future version of pandas, parsing datetimes with mixed time zones will raise an error unless `utc=True`. Please specify `utc=True` to opt in to the new behaviour and silence this warning. To create a `Series` with mixed offsets and `object` dtype, please use `apply` and `datetime.datetime.strptime`\n",
      "  sp500.index = pd.to_datetime(sp500.index)\n"
     ]
    }
   ],
   "source": [
    "sp500.index = pd.to_datetime(sp500.index)"
   ]
  },
  {
   "cell_type": "code",
   "execution_count": 20,
   "id": "1b02b64d-9eef-489f-894d-26f9e6792db5",
   "metadata": {
    "ExecuteTime": {
     "end_time": "2024-05-11T11:53:58.006621176Z",
     "start_time": "2024-05-11T11:53:57.978755852Z"
    }
   },
   "outputs": [],
   "source": [
    "del sp500[\"Dividends\"]\n",
    "del sp500[\"Stock Splits\"]"
   ]
  },
  {
   "cell_type": "code",
   "execution_count": 21,
   "id": "f25e1594-1cd2-47ae-bb50-a0d17ac35c69",
   "metadata": {
    "ExecuteTime": {
     "end_time": "2024-05-11T11:53:58.007572043Z",
     "start_time": "2024-05-11T11:53:57.979043363Z"
    }
   },
   "outputs": [],
   "source": [
    "sp500[\"Tomorrow\"] = sp500[\"Close\"].shift(-1)"
   ]
  },
  {
   "cell_type": "code",
   "execution_count": 22,
   "id": "871b16a1-9d77-40c8-8564-1947b438a113",
   "metadata": {
    "ExecuteTime": {
     "end_time": "2024-05-11T11:53:58.067862625Z",
     "start_time": "2024-05-11T11:53:57.979217509Z"
    }
   },
   "outputs": [],
   "source": [
    "sp500[\"Target\"] = (sp500[\"Tomorrow\"] > sp500[\"Close\"]).astype(int)"
   ]
  },
  {
   "cell_type": "code",
   "execution_count": 23,
   "id": "79e58626-3be6-45f7-b1aa-1786593e3bd6",
   "metadata": {
    "ExecuteTime": {
     "end_time": "2024-05-11T11:53:58.898507581Z",
     "start_time": "2024-05-11T11:53:58.005808465Z"
    }
   },
   "outputs": [
    {
     "ename": "TypeError",
     "evalue": "'<' not supported between instances of 'Timestamp' and 'str'",
     "output_type": "error",
     "traceback": [
      "\u001B[0;31m---------------------------------------------------------------------------\u001B[0m",
      "\u001B[0;31mKeyError\u001B[0m                                  Traceback (most recent call last)",
      "File \u001B[0;32m~/bin/anaconda3/lib/python3.11/site-packages/pandas/core/indexes/base.py:3791\u001B[0m, in \u001B[0;36mIndex.get_loc\u001B[0;34m(self, key)\u001B[0m\n\u001B[1;32m   3790\u001B[0m \u001B[38;5;28;01mtry\u001B[39;00m:\n\u001B[0;32m-> 3791\u001B[0m     \u001B[38;5;28;01mreturn\u001B[39;00m \u001B[38;5;28mself\u001B[39m\u001B[38;5;241m.\u001B[39m_engine\u001B[38;5;241m.\u001B[39mget_loc(casted_key)\n\u001B[1;32m   3792\u001B[0m \u001B[38;5;28;01mexcept\u001B[39;00m \u001B[38;5;167;01mKeyError\u001B[39;00m \u001B[38;5;28;01mas\u001B[39;00m err:\n",
      "File \u001B[0;32mindex.pyx:152\u001B[0m, in \u001B[0;36mpandas._libs.index.IndexEngine.get_loc\u001B[0;34m()\u001B[0m\n",
      "File \u001B[0;32mindex.pyx:181\u001B[0m, in \u001B[0;36mpandas._libs.index.IndexEngine.get_loc\u001B[0;34m()\u001B[0m\n",
      "File \u001B[0;32mpandas/_libs/hashtable_class_helper.pxi:7080\u001B[0m, in \u001B[0;36mpandas._libs.hashtable.PyObjectHashTable.get_item\u001B[0;34m()\u001B[0m\n",
      "File \u001B[0;32mpandas/_libs/hashtable_class_helper.pxi:7088\u001B[0m, in \u001B[0;36mpandas._libs.hashtable.PyObjectHashTable.get_item\u001B[0;34m()\u001B[0m\n",
      "\u001B[0;31mKeyError\u001B[0m: '1990-01-01'",
      "\nThe above exception was the direct cause of the following exception:\n",
      "\u001B[0;31mKeyError\u001B[0m                                  Traceback (most recent call last)",
      "File \u001B[0;32m~/bin/anaconda3/lib/python3.11/site-packages/pandas/core/indexes/base.py:6738\u001B[0m, in \u001B[0;36mIndex.get_slice_bound\u001B[0;34m(self, label, side)\u001B[0m\n\u001B[1;32m   6737\u001B[0m \u001B[38;5;28;01mtry\u001B[39;00m:\n\u001B[0;32m-> 6738\u001B[0m     slc \u001B[38;5;241m=\u001B[39m \u001B[38;5;28mself\u001B[39m\u001B[38;5;241m.\u001B[39mget_loc(label)\n\u001B[1;32m   6739\u001B[0m \u001B[38;5;28;01mexcept\u001B[39;00m \u001B[38;5;167;01mKeyError\u001B[39;00m \u001B[38;5;28;01mas\u001B[39;00m err:\n",
      "File \u001B[0;32m~/bin/anaconda3/lib/python3.11/site-packages/pandas/core/indexes/base.py:3798\u001B[0m, in \u001B[0;36mIndex.get_loc\u001B[0;34m(self, key)\u001B[0m\n\u001B[1;32m   3797\u001B[0m         \u001B[38;5;28;01mraise\u001B[39;00m InvalidIndexError(key)\n\u001B[0;32m-> 3798\u001B[0m     \u001B[38;5;28;01mraise\u001B[39;00m \u001B[38;5;167;01mKeyError\u001B[39;00m(key) \u001B[38;5;28;01mfrom\u001B[39;00m \u001B[38;5;21;01merr\u001B[39;00m\n\u001B[1;32m   3799\u001B[0m \u001B[38;5;28;01mexcept\u001B[39;00m \u001B[38;5;167;01mTypeError\u001B[39;00m:\n\u001B[1;32m   3800\u001B[0m     \u001B[38;5;66;03m# If we have a listlike key, _check_indexing_error will raise\u001B[39;00m\n\u001B[1;32m   3801\u001B[0m     \u001B[38;5;66;03m#  InvalidIndexError. Otherwise we fall through and re-raise\u001B[39;00m\n\u001B[1;32m   3802\u001B[0m     \u001B[38;5;66;03m#  the TypeError.\u001B[39;00m\n",
      "\u001B[0;31mKeyError\u001B[0m: '1990-01-01'",
      "\nDuring handling of the above exception, another exception occurred:\n",
      "\u001B[0;31mTypeError\u001B[0m                                 Traceback (most recent call last)",
      "Cell \u001B[0;32mIn[23], line 1\u001B[0m\n\u001B[0;32m----> 1\u001B[0m sp500 \u001B[38;5;241m=\u001B[39m sp500\u001B[38;5;241m.\u001B[39mloc[\u001B[38;5;124m\"\u001B[39m\u001B[38;5;124m1990-01-01\u001B[39m\u001B[38;5;124m\"\u001B[39m:]\u001B[38;5;241m.\u001B[39mcopy()\n",
      "File \u001B[0;32m~/bin/anaconda3/lib/python3.11/site-packages/pandas/core/indexing.py:1153\u001B[0m, in \u001B[0;36m_LocationIndexer.__getitem__\u001B[0;34m(self, key)\u001B[0m\n\u001B[1;32m   1150\u001B[0m axis \u001B[38;5;241m=\u001B[39m \u001B[38;5;28mself\u001B[39m\u001B[38;5;241m.\u001B[39maxis \u001B[38;5;129;01mor\u001B[39;00m \u001B[38;5;241m0\u001B[39m\n\u001B[1;32m   1152\u001B[0m maybe_callable \u001B[38;5;241m=\u001B[39m com\u001B[38;5;241m.\u001B[39mapply_if_callable(key, \u001B[38;5;28mself\u001B[39m\u001B[38;5;241m.\u001B[39mobj)\n\u001B[0;32m-> 1153\u001B[0m \u001B[38;5;28;01mreturn\u001B[39;00m \u001B[38;5;28mself\u001B[39m\u001B[38;5;241m.\u001B[39m_getitem_axis(maybe_callable, axis\u001B[38;5;241m=\u001B[39maxis)\n",
      "File \u001B[0;32m~/bin/anaconda3/lib/python3.11/site-packages/pandas/core/indexing.py:1373\u001B[0m, in \u001B[0;36m_LocIndexer._getitem_axis\u001B[0;34m(self, key, axis)\u001B[0m\n\u001B[1;32m   1371\u001B[0m \u001B[38;5;28;01mif\u001B[39;00m \u001B[38;5;28misinstance\u001B[39m(key, \u001B[38;5;28mslice\u001B[39m):\n\u001B[1;32m   1372\u001B[0m     \u001B[38;5;28mself\u001B[39m\u001B[38;5;241m.\u001B[39m_validate_key(key, axis)\n\u001B[0;32m-> 1373\u001B[0m     \u001B[38;5;28;01mreturn\u001B[39;00m \u001B[38;5;28mself\u001B[39m\u001B[38;5;241m.\u001B[39m_get_slice_axis(key, axis\u001B[38;5;241m=\u001B[39maxis)\n\u001B[1;32m   1374\u001B[0m \u001B[38;5;28;01melif\u001B[39;00m com\u001B[38;5;241m.\u001B[39mis_bool_indexer(key):\n\u001B[1;32m   1375\u001B[0m     \u001B[38;5;28;01mreturn\u001B[39;00m \u001B[38;5;28mself\u001B[39m\u001B[38;5;241m.\u001B[39m_getbool_axis(key, axis\u001B[38;5;241m=\u001B[39maxis)\n",
      "File \u001B[0;32m~/bin/anaconda3/lib/python3.11/site-packages/pandas/core/indexing.py:1405\u001B[0m, in \u001B[0;36m_LocIndexer._get_slice_axis\u001B[0;34m(self, slice_obj, axis)\u001B[0m\n\u001B[1;32m   1402\u001B[0m     \u001B[38;5;28;01mreturn\u001B[39;00m obj\u001B[38;5;241m.\u001B[39mcopy(deep\u001B[38;5;241m=\u001B[39m\u001B[38;5;28;01mFalse\u001B[39;00m)\n\u001B[1;32m   1404\u001B[0m labels \u001B[38;5;241m=\u001B[39m obj\u001B[38;5;241m.\u001B[39m_get_axis(axis)\n\u001B[0;32m-> 1405\u001B[0m indexer \u001B[38;5;241m=\u001B[39m labels\u001B[38;5;241m.\u001B[39mslice_indexer(slice_obj\u001B[38;5;241m.\u001B[39mstart, slice_obj\u001B[38;5;241m.\u001B[39mstop, slice_obj\u001B[38;5;241m.\u001B[39mstep)\n\u001B[1;32m   1407\u001B[0m \u001B[38;5;28;01mif\u001B[39;00m \u001B[38;5;28misinstance\u001B[39m(indexer, \u001B[38;5;28mslice\u001B[39m):\n\u001B[1;32m   1408\u001B[0m     \u001B[38;5;28;01mreturn\u001B[39;00m \u001B[38;5;28mself\u001B[39m\u001B[38;5;241m.\u001B[39mobj\u001B[38;5;241m.\u001B[39m_slice(indexer, axis\u001B[38;5;241m=\u001B[39maxis)\n",
      "File \u001B[0;32m~/bin/anaconda3/lib/python3.11/site-packages/pandas/core/indexes/base.py:6602\u001B[0m, in \u001B[0;36mIndex.slice_indexer\u001B[0;34m(self, start, end, step)\u001B[0m\n\u001B[1;32m   6558\u001B[0m \u001B[38;5;28;01mdef\u001B[39;00m \u001B[38;5;21mslice_indexer\u001B[39m(\n\u001B[1;32m   6559\u001B[0m     \u001B[38;5;28mself\u001B[39m,\n\u001B[1;32m   6560\u001B[0m     start: Hashable \u001B[38;5;241m|\u001B[39m \u001B[38;5;28;01mNone\u001B[39;00m \u001B[38;5;241m=\u001B[39m \u001B[38;5;28;01mNone\u001B[39;00m,\n\u001B[1;32m   6561\u001B[0m     end: Hashable \u001B[38;5;241m|\u001B[39m \u001B[38;5;28;01mNone\u001B[39;00m \u001B[38;5;241m=\u001B[39m \u001B[38;5;28;01mNone\u001B[39;00m,\n\u001B[1;32m   6562\u001B[0m     step: \u001B[38;5;28mint\u001B[39m \u001B[38;5;241m|\u001B[39m \u001B[38;5;28;01mNone\u001B[39;00m \u001B[38;5;241m=\u001B[39m \u001B[38;5;28;01mNone\u001B[39;00m,\n\u001B[1;32m   6563\u001B[0m ) \u001B[38;5;241m-\u001B[39m\u001B[38;5;241m>\u001B[39m \u001B[38;5;28mslice\u001B[39m:\n\u001B[1;32m   6564\u001B[0m \u001B[38;5;250m    \u001B[39m\u001B[38;5;124;03m\"\"\"\u001B[39;00m\n\u001B[1;32m   6565\u001B[0m \u001B[38;5;124;03m    Compute the slice indexer for input labels and step.\u001B[39;00m\n\u001B[1;32m   6566\u001B[0m \n\u001B[0;32m   (...)\u001B[0m\n\u001B[1;32m   6600\u001B[0m \u001B[38;5;124;03m    slice(1, 3, None)\u001B[39;00m\n\u001B[1;32m   6601\u001B[0m \u001B[38;5;124;03m    \"\"\"\u001B[39;00m\n\u001B[0;32m-> 6602\u001B[0m     start_slice, end_slice \u001B[38;5;241m=\u001B[39m \u001B[38;5;28mself\u001B[39m\u001B[38;5;241m.\u001B[39mslice_locs(start, end, step\u001B[38;5;241m=\u001B[39mstep)\n\u001B[1;32m   6604\u001B[0m     \u001B[38;5;66;03m# return a slice\u001B[39;00m\n\u001B[1;32m   6605\u001B[0m     \u001B[38;5;28;01mif\u001B[39;00m \u001B[38;5;129;01mnot\u001B[39;00m is_scalar(start_slice):\n",
      "File \u001B[0;32m~/bin/anaconda3/lib/python3.11/site-packages/pandas/core/indexes/base.py:6819\u001B[0m, in \u001B[0;36mIndex.slice_locs\u001B[0;34m(self, start, end, step)\u001B[0m\n\u001B[1;32m   6817\u001B[0m start_slice \u001B[38;5;241m=\u001B[39m \u001B[38;5;28;01mNone\u001B[39;00m\n\u001B[1;32m   6818\u001B[0m \u001B[38;5;28;01mif\u001B[39;00m start \u001B[38;5;129;01mis\u001B[39;00m \u001B[38;5;129;01mnot\u001B[39;00m \u001B[38;5;28;01mNone\u001B[39;00m:\n\u001B[0;32m-> 6819\u001B[0m     start_slice \u001B[38;5;241m=\u001B[39m \u001B[38;5;28mself\u001B[39m\u001B[38;5;241m.\u001B[39mget_slice_bound(start, \u001B[38;5;124m\"\u001B[39m\u001B[38;5;124mleft\u001B[39m\u001B[38;5;124m\"\u001B[39m)\n\u001B[1;32m   6820\u001B[0m \u001B[38;5;28;01mif\u001B[39;00m start_slice \u001B[38;5;129;01mis\u001B[39;00m \u001B[38;5;28;01mNone\u001B[39;00m:\n\u001B[1;32m   6821\u001B[0m     start_slice \u001B[38;5;241m=\u001B[39m \u001B[38;5;241m0\u001B[39m\n",
      "File \u001B[0;32m~/bin/anaconda3/lib/python3.11/site-packages/pandas/core/indexes/base.py:6741\u001B[0m, in \u001B[0;36mIndex.get_slice_bound\u001B[0;34m(self, label, side)\u001B[0m\n\u001B[1;32m   6739\u001B[0m \u001B[38;5;28;01mexcept\u001B[39;00m \u001B[38;5;167;01mKeyError\u001B[39;00m \u001B[38;5;28;01mas\u001B[39;00m err:\n\u001B[1;32m   6740\u001B[0m     \u001B[38;5;28;01mtry\u001B[39;00m:\n\u001B[0;32m-> 6741\u001B[0m         \u001B[38;5;28;01mreturn\u001B[39;00m \u001B[38;5;28mself\u001B[39m\u001B[38;5;241m.\u001B[39m_searchsorted_monotonic(label, side)\n\u001B[1;32m   6742\u001B[0m     \u001B[38;5;28;01mexcept\u001B[39;00m \u001B[38;5;167;01mValueError\u001B[39;00m:\n\u001B[1;32m   6743\u001B[0m         \u001B[38;5;66;03m# raise the original KeyError\u001B[39;00m\n\u001B[1;32m   6744\u001B[0m         \u001B[38;5;28;01mraise\u001B[39;00m err\n",
      "File \u001B[0;32m~/bin/anaconda3/lib/python3.11/site-packages/pandas/core/indexes/base.py:6673\u001B[0m, in \u001B[0;36mIndex._searchsorted_monotonic\u001B[0;34m(self, label, side)\u001B[0m\n\u001B[1;32m   6671\u001B[0m \u001B[38;5;28;01mdef\u001B[39;00m \u001B[38;5;21m_searchsorted_monotonic\u001B[39m(\u001B[38;5;28mself\u001B[39m, label, side: Literal[\u001B[38;5;124m\"\u001B[39m\u001B[38;5;124mleft\u001B[39m\u001B[38;5;124m\"\u001B[39m, \u001B[38;5;124m\"\u001B[39m\u001B[38;5;124mright\u001B[39m\u001B[38;5;124m\"\u001B[39m] \u001B[38;5;241m=\u001B[39m \u001B[38;5;124m\"\u001B[39m\u001B[38;5;124mleft\u001B[39m\u001B[38;5;124m\"\u001B[39m):\n\u001B[1;32m   6672\u001B[0m     \u001B[38;5;28;01mif\u001B[39;00m \u001B[38;5;28mself\u001B[39m\u001B[38;5;241m.\u001B[39mis_monotonic_increasing:\n\u001B[0;32m-> 6673\u001B[0m         \u001B[38;5;28;01mreturn\u001B[39;00m \u001B[38;5;28mself\u001B[39m\u001B[38;5;241m.\u001B[39msearchsorted(label, side\u001B[38;5;241m=\u001B[39mside)\n\u001B[1;32m   6674\u001B[0m     \u001B[38;5;28;01melif\u001B[39;00m \u001B[38;5;28mself\u001B[39m\u001B[38;5;241m.\u001B[39mis_monotonic_decreasing:\n\u001B[1;32m   6675\u001B[0m         \u001B[38;5;66;03m# np.searchsorted expects ascending sort order, have to reverse\u001B[39;00m\n\u001B[1;32m   6676\u001B[0m         \u001B[38;5;66;03m# everything for it to work (element ordering, search side and\u001B[39;00m\n\u001B[1;32m   6677\u001B[0m         \u001B[38;5;66;03m# resulting value).\u001B[39;00m\n\u001B[1;32m   6678\u001B[0m         pos \u001B[38;5;241m=\u001B[39m \u001B[38;5;28mself\u001B[39m[::\u001B[38;5;241m-\u001B[39m\u001B[38;5;241m1\u001B[39m]\u001B[38;5;241m.\u001B[39msearchsorted(\n\u001B[1;32m   6679\u001B[0m             label, side\u001B[38;5;241m=\u001B[39m\u001B[38;5;124m\"\u001B[39m\u001B[38;5;124mright\u001B[39m\u001B[38;5;124m\"\u001B[39m \u001B[38;5;28;01mif\u001B[39;00m side \u001B[38;5;241m==\u001B[39m \u001B[38;5;124m\"\u001B[39m\u001B[38;5;124mleft\u001B[39m\u001B[38;5;124m\"\u001B[39m \u001B[38;5;28;01melse\u001B[39;00m \u001B[38;5;124m\"\u001B[39m\u001B[38;5;124mleft\u001B[39m\u001B[38;5;124m\"\u001B[39m\n\u001B[1;32m   6680\u001B[0m         )\n",
      "File \u001B[0;32m~/bin/anaconda3/lib/python3.11/site-packages/pandas/core/base.py:1354\u001B[0m, in \u001B[0;36mIndexOpsMixin.searchsorted\u001B[0;34m(self, value, side, sorter)\u001B[0m\n\u001B[1;32m   1350\u001B[0m \u001B[38;5;28;01mif\u001B[39;00m \u001B[38;5;129;01mnot\u001B[39;00m \u001B[38;5;28misinstance\u001B[39m(values, np\u001B[38;5;241m.\u001B[39mndarray):\n\u001B[1;32m   1351\u001B[0m     \u001B[38;5;66;03m# Going through EA.searchsorted directly improves performance GH#38083\u001B[39;00m\n\u001B[1;32m   1352\u001B[0m     \u001B[38;5;28;01mreturn\u001B[39;00m values\u001B[38;5;241m.\u001B[39msearchsorted(value, side\u001B[38;5;241m=\u001B[39mside, sorter\u001B[38;5;241m=\u001B[39msorter)\n\u001B[0;32m-> 1354\u001B[0m \u001B[38;5;28;01mreturn\u001B[39;00m algorithms\u001B[38;5;241m.\u001B[39msearchsorted(\n\u001B[1;32m   1355\u001B[0m     values,\n\u001B[1;32m   1356\u001B[0m     value,\n\u001B[1;32m   1357\u001B[0m     side\u001B[38;5;241m=\u001B[39mside,\n\u001B[1;32m   1358\u001B[0m     sorter\u001B[38;5;241m=\u001B[39msorter,\n\u001B[1;32m   1359\u001B[0m )\n",
      "File \u001B[0;32m~/bin/anaconda3/lib/python3.11/site-packages/pandas/core/algorithms.py:1409\u001B[0m, in \u001B[0;36msearchsorted\u001B[0;34m(arr, value, side, sorter)\u001B[0m\n\u001B[1;32m   1405\u001B[0m     arr \u001B[38;5;241m=\u001B[39m ensure_wrapped_if_datetimelike(arr)\n\u001B[1;32m   1407\u001B[0m \u001B[38;5;66;03m# Argument 1 to \"searchsorted\" of \"ndarray\" has incompatible type\u001B[39;00m\n\u001B[1;32m   1408\u001B[0m \u001B[38;5;66;03m# \"Union[NumpyValueArrayLike, ExtensionArray]\"; expected \"NumpyValueArrayLike\"\u001B[39;00m\n\u001B[0;32m-> 1409\u001B[0m \u001B[38;5;28;01mreturn\u001B[39;00m arr\u001B[38;5;241m.\u001B[39msearchsorted(value, side\u001B[38;5;241m=\u001B[39mside, sorter\u001B[38;5;241m=\u001B[39msorter)\n",
      "\u001B[0;31mTypeError\u001B[0m: '<' not supported between instances of 'Timestamp' and 'str'"
     ]
    }
   ],
   "source": [
    "sp500 = sp500.loc[\"1990-01-01\":].copy()"
   ]
  },
  {
   "cell_type": "code",
   "execution_count": null,
   "id": "ad95d689-520a-4141-ab6e-a0fe3f9697a6",
   "metadata": {
    "ExecuteTime": {
     "start_time": "2024-05-11T11:53:58.897926222Z"
    }
   },
   "outputs": [],
   "source": [
    "from sklearn.ensemble import RandomForestClassifier\n",
    "\n",
    "model = RandomForestClassifier(n_estimators=100, min_samples_split=100, random_state=1)\n",
    "\n",
    "train = sp500.iloc[:-100]\n",
    "test = sp500.iloc[-100:]\n",
    "\n",
    "predictors = [\"Close\", \"Volume\", \"Open\", \"High\", \"Low\"]\n",
    "model.fit(train[predictors], train[\"Target\"])"
   ]
  },
  {
   "cell_type": "code",
   "execution_count": null,
   "id": "c0837787-5d4e-4a20-ad0d-3a546bc23cdb",
   "metadata": {
    "ExecuteTime": {
     "end_time": "2024-05-11T11:53:58.990939555Z",
     "start_time": "2024-05-11T11:53:58.925138850Z"
    }
   },
   "outputs": [],
   "source": [
    "from sklearn.metrics import precision_score\n",
    "\n",
    "preds = model.predict(test[predictors])\n",
    "preds = pd.Series(preds, index=test.index)\n",
    "precision_score(test[\"Target\"],preds,zero_division=\"warn\")"
   ]
  },
  {
   "cell_type": "code",
   "execution_count": null,
   "id": "e33e349f-8365-4282-91db-3b5824e83262",
   "metadata": {
    "ExecuteTime": {
     "start_time": "2024-05-11T11:53:58.925437813Z"
    }
   },
   "outputs": [],
   "source": [
    "combined = pd.concat([test[\"Target\"], preds], axis=1)\n",
    "combined.plot()"
   ]
  },
  {
   "cell_type": "code",
   "execution_count": null,
   "id": "d4049497-0ee7-4399-83ab-ef61ccf71133",
   "metadata": {
    "ExecuteTime": {
     "start_time": "2024-05-11T11:53:58.925666110Z"
    }
   },
   "outputs": [],
   "source": [
    "def predict(train, test, predictors, model):\n",
    "    model.fit(train[predictors], train[\"Target\"])\n",
    "    preds = model.predict(test[predictors])\n",
    "    preds = pd.Series(preds, index=test.index, name=\"Predictions\")\n",
    "    combined = pd.concat([test[\"Target\"], preds], axis=1)\n",
    "    return combined"
   ]
  },
  {
   "cell_type": "code",
   "execution_count": null,
   "id": "ca97d93a-6841-49ef-8f91-25a713baef16",
   "metadata": {
    "ExecuteTime": {
     "start_time": "2024-05-11T11:53:58.925845887Z"
    }
   },
   "outputs": [],
   "source": [
    "def backtest(data, model, predictors, start=2500, step=250):\n",
    "    all_predictions = []\n",
    "\n",
    "    for i in range(start, data.shape[0], step):\n",
    "        train = data.iloc[0:i].copy()\n",
    "        test = data.iloc[i:(i+step)].copy()\n",
    "        predictions = predict(train, test, predictors, model)\n",
    "        all_predictions.append(predictions)\n",
    "    \n",
    "    return pd.concat(all_predictions)"
   ]
  },
  {
   "cell_type": "code",
   "execution_count": null,
   "id": "8a75261f-d2de-4bc6-9364-54d520c63985",
   "metadata": {
    "ExecuteTime": {
     "start_time": "2024-05-11T11:53:58.925984928Z"
    }
   },
   "outputs": [],
   "source": [
    "predictions = backtest(sp500, model, predictors)"
   ]
  },
  {
   "cell_type": "code",
   "execution_count": null,
   "id": "439d8704-c55d-4d1f-a709-acdc0f485e87",
   "metadata": {
    "ExecuteTime": {
     "start_time": "2024-05-11T11:53:58.926125186Z"
    }
   },
   "outputs": [],
   "source": [
    "predictions[\"Predictions\"].value_counts()"
   ]
  },
  {
   "cell_type": "code",
   "execution_count": null,
   "id": "bf105e8f-6be5-4494-9658-233761f1c4f4",
   "metadata": {
    "ExecuteTime": {
     "start_time": "2024-05-11T11:53:58.926395903Z"
    }
   },
   "outputs": [],
   "source": [
    "precision_score(predictions[\"Target\"], predictions[\"Predictions\"])"
   ]
  },
  {
   "cell_type": "code",
   "execution_count": null,
   "id": "eff25a20-375e-444a-b5d3-b558753fc817",
   "metadata": {
    "ExecuteTime": {
     "start_time": "2024-05-11T11:53:58.926524737Z"
    }
   },
   "outputs": [],
   "source": [
    "predictions[\"Target\"].value_counts() / predictions.shape[0]"
   ]
  },
  {
   "cell_type": "code",
   "execution_count": null,
   "id": "ed05ece5-f1f4-443a-b179-33c7e709ea4d",
   "metadata": {
    "ExecuteTime": {
     "start_time": "2024-05-11T11:53:58.926644661Z"
    }
   },
   "outputs": [],
   "source": [
    "horizons = [2,5,60,250,1000]\n",
    "new_predictors = []\n",
    "\n",
    "for horizon in horizons:\n",
    "    rolling_averages = sp500.rolling(horizon).mean()\n",
    "    \n",
    "    ratio_column = f\"Close_Ratio_{horizon}\"\n",
    "    sp500[ratio_column] = sp500[\"Close\"] / rolling_averages[\"Close\"]\n",
    "    \n",
    "    trend_column = f\"Trend_{horizon}\"\n",
    "    sp500[trend_column] = sp500.shift(1).rolling(horizon).sum()[\"Target\"]\n",
    "    \n",
    "    new_predictors+= [ratio_column, trend_column]"
   ]
  },
  {
   "cell_type": "code",
   "execution_count": null,
   "id": "6c04ab2d-64ff-4f56-a206-605dcce30372",
   "metadata": {
    "ExecuteTime": {
     "start_time": "2024-05-11T11:53:58.926819028Z"
    }
   },
   "outputs": [],
   "source": [
    "sp500 = sp500.dropna(subset=sp500.columns[sp500.columns != \"Tomorrow\"])"
   ]
  },
  {
   "cell_type": "code",
   "execution_count": null,
   "id": "fd7b2523-85a4-477d-975d-9cf64b1ff557",
   "metadata": {
    "ExecuteTime": {
     "start_time": "2024-05-11T11:53:58.926920498Z"
    }
   },
   "outputs": [],
   "source": [
    "sp500"
   ]
  },
  {
   "cell_type": "code",
   "execution_count": null,
   "id": "283be581-dbe1-4f02-8851-ff1a027b4104",
   "metadata": {
    "ExecuteTime": {
     "start_time": "2024-05-11T11:53:58.927014890Z"
    }
   },
   "outputs": [],
   "source": [
    "model = RandomForestClassifier(n_estimators=200, min_samples_split=50, random_state=1)"
   ]
  },
  {
   "cell_type": "code",
   "execution_count": null,
   "id": "a843303c-a247-4f6d-9505-cc711ca95afa",
   "metadata": {
    "ExecuteTime": {
     "start_time": "2024-05-11T11:53:58.927112309Z"
    }
   },
   "outputs": [],
   "source": [
    "def predict(train, test, predictors, model):\n",
    "    model.fit(train[predictors], train[\"Target\"])\n",
    "    preds = model.predict_proba(test[predictors])[:,1]\n",
    "    preds[preds >=.6] = 1\n",
    "    preds[preds <.6] = 0\n",
    "    preds = pd.Series(preds, index=test.index, name=\"Predictions\")\n",
    "    combined = pd.concat([test[\"Target\"], preds], axis=1)\n",
    "    return combined"
   ]
  },
  {
   "cell_type": "code",
   "execution_count": null,
   "id": "fb820946-1275-4914-b6a8-355e96f315b6",
   "metadata": {
    "ExecuteTime": {
     "start_time": "2024-05-11T11:53:58.927219372Z"
    }
   },
   "outputs": [],
   "source": [
    "predictions = backtest(sp500, model, new_predictors)"
   ]
  },
  {
   "cell_type": "code",
   "execution_count": null,
   "id": "a73e1816-283a-47ac-af43-4550b80307ef",
   "metadata": {
    "ExecuteTime": {
     "start_time": "2024-05-11T11:53:58.927397628Z"
    }
   },
   "outputs": [],
   "source": [
    "predictions[\"Predictions\"].value_counts()"
   ]
  },
  {
   "cell_type": "code",
   "execution_count": null,
   "id": "14acc336-4991-4189-bb16-4a8bf53056e1",
   "metadata": {
    "ExecuteTime": {
     "start_time": "2024-05-11T11:53:58.927559534Z"
    }
   },
   "outputs": [],
   "source": [
    "precision_score(predictions[\"Target\"], predictions[\"Predictions\"])"
   ]
  },
  {
   "cell_type": "code",
   "execution_count": null,
   "id": "21b3d365-2157-4229-a785-ae687da0f21f",
   "metadata": {
    "ExecuteTime": {
     "start_time": "2024-05-11T11:53:58.927701138Z"
    }
   },
   "outputs": [],
   "source": [
    "predictions[\"Target\"].value_counts() / predictions.shape[0]"
   ]
  },
  {
   "cell_type": "code",
   "execution_count": null,
   "id": "ef08fff5-0dd5-4d86-9d0d-8ce9f7443865",
   "metadata": {
    "ExecuteTime": {
     "start_time": "2024-05-11T11:53:58.927902515Z"
    }
   },
   "outputs": [],
   "source": [
    "predictions"
   ]
  },
  {
   "cell_type": "code",
   "execution_count": null,
   "id": "b2d35fd3-7038-4e69-bcbd-bde42c1f5e33",
   "metadata": {
    "ExecuteTime": {
     "start_time": "2024-05-11T11:53:58.928036351Z"
    }
   },
   "outputs": [],
   "source": []
  }
 ],
 "metadata": {
  "kernelspec": {
   "display_name": "Python 3 (ipykernel)",
   "language": "python",
   "name": "python3"
  },
  "language_info": {
   "codemirror_mode": {
    "name": "ipython",
    "version": 3
   },
   "file_extension": ".py",
   "mimetype": "text/x-python",
   "name": "python",
   "nbconvert_exporter": "python",
   "pygments_lexer": "ipython3",
   "version": "3.9.13"
  }
 },
 "nbformat": 4,
 "nbformat_minor": 5
}
