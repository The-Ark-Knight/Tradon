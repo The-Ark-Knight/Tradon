{
 "cells": [
  {
   "cell_type": "code",
   "outputs": [
    {
     "name": "stdout",
     "output_type": "stream",
     "text": [
      "Requirement already satisfied: yfinance in /home/thearkknight/bin/anaconda3/lib/python3.11/site-packages (0.2.38)\r\n",
      "Requirement already satisfied: pandas>=1.3.0 in /home/thearkknight/bin/anaconda3/lib/python3.11/site-packages (from yfinance) (2.1.4)\r\n",
      "Requirement already satisfied: numpy>=1.16.5 in /home/thearkknight/bin/anaconda3/lib/python3.11/site-packages (from yfinance) (1.24.3)\r\n",
      "Requirement already satisfied: requests>=2.31 in /home/thearkknight/bin/anaconda3/lib/python3.11/site-packages (from yfinance) (2.31.0)\r\n",
      "Requirement already satisfied: multitasking>=0.0.7 in /home/thearkknight/bin/anaconda3/lib/python3.11/site-packages (from yfinance) (0.0.11)\r\n",
      "Requirement already satisfied: lxml>=4.9.1 in /home/thearkknight/bin/anaconda3/lib/python3.11/site-packages (from yfinance) (4.9.3)\r\n",
      "Requirement already satisfied: appdirs>=1.4.4 in /home/thearkknight/bin/anaconda3/lib/python3.11/site-packages (from yfinance) (1.4.4)\r\n",
      "Requirement already satisfied: pytz>=2022.5 in /home/thearkknight/bin/anaconda3/lib/python3.11/site-packages (from yfinance) (2023.3.post1)\r\n",
      "Requirement already satisfied: frozendict>=2.3.4 in /home/thearkknight/bin/anaconda3/lib/python3.11/site-packages (from yfinance) (2.4.4)\r\n",
      "Requirement already satisfied: peewee>=3.16.2 in /home/thearkknight/bin/anaconda3/lib/python3.11/site-packages (from yfinance) (3.17.5)\r\n",
      "Requirement already satisfied: beautifulsoup4>=4.11.1 in /home/thearkknight/bin/anaconda3/lib/python3.11/site-packages (from yfinance) (4.12.3)\r\n",
      "Requirement already satisfied: html5lib>=1.1 in /home/thearkknight/bin/anaconda3/lib/python3.11/site-packages (from yfinance) (1.1)\r\n",
      "Requirement already satisfied: soupsieve>1.2 in /home/thearkknight/bin/anaconda3/lib/python3.11/site-packages (from beautifulsoup4>=4.11.1->yfinance) (2.4)\r\n",
      "Requirement already satisfied: six>=1.9 in /home/thearkknight/bin/anaconda3/lib/python3.11/site-packages (from html5lib>=1.1->yfinance) (1.16.0)\r\n",
      "Requirement already satisfied: webencodings in /home/thearkknight/bin/anaconda3/lib/python3.11/site-packages (from html5lib>=1.1->yfinance) (0.5.1)\r\n",
      "Requirement already satisfied: python-dateutil>=2.8.2 in /home/thearkknight/bin/anaconda3/lib/python3.11/site-packages (from pandas>=1.3.0->yfinance) (2.8.2)\r\n",
      "Requirement already satisfied: tzdata>=2022.1 in /home/thearkknight/bin/anaconda3/lib/python3.11/site-packages (from pandas>=1.3.0->yfinance) (2023.3)\r\n",
      "Requirement already satisfied: charset-normalizer<4,>=2 in /home/thearkknight/bin/anaconda3/lib/python3.11/site-packages (from requests>=2.31->yfinance) (2.0.4)\r\n",
      "Requirement already satisfied: idna<4,>=2.5 in /home/thearkknight/bin/anaconda3/lib/python3.11/site-packages (from requests>=2.31->yfinance) (3.4)\r\n",
      "Requirement already satisfied: urllib3<3,>=1.21.1 in /home/thearkknight/bin/anaconda3/lib/python3.11/site-packages (from requests>=2.31->yfinance) (1.26.16)\r\n",
      "Requirement already satisfied: certifi>=2017.4.17 in /home/thearkknight/bin/anaconda3/lib/python3.11/site-packages (from requests>=2.31->yfinance) (2023.11.17)\r\n"
     ]
    }
   ],
   "source": [
    "! pip install yfinance"
   ],
   "metadata": {
    "collapsed": false,
    "ExecuteTime": {
     "end_time": "2024-05-11T09:05:30.365782557Z",
     "start_time": "2024-05-11T09:05:27.548369323Z"
    }
   },
   "id": "98585a8a38081088",
   "execution_count": 12
  },
  {
   "cell_type": "code",
   "outputs": [],
   "source": [
    "import yfinance as yf\n",
    "import pandas as pd\n",
    "\n",
    "# Define the list of ticker symbols\n",
    "ticker_symbols = [\"AAPL\", \"AMZN\"]\n",
    "\n",
    "# Define the start and end dates for the historical data\n",
    "start_date = \"2000-01-01\"\n",
    "end_date = \"2024-02-28\"\n",
    "\n",
    "# Download the historical data for each ticker symbol\n",
    "data = {}\n",
    "for ticker_symbol in ticker_symbols:\n",
    "    ticker = yf.Ticker(ticker_symbol)\n",
    "    history = ticker.history(period=\"max\", start=start_date, end=end_date)\n",
    "    data[ticker_symbol] = history\n",
    "\n",
    "# Concatenate the data for each ticker symbol into a single DataFrame\n",
    "df = pd.concat(data, axis=1)\n",
    "\n",
    "# Save the DataFrame to a CSV file\n",
    "df.to_csv(\"stock_data1.csv\")\n"
   ],
   "metadata": {
    "collapsed": false,
    "ExecuteTime": {
     "end_time": "2024-05-11T09:16:47.269104593Z",
     "start_time": "2024-05-11T09:16:46.971177538Z"
    }
   },
   "id": "d00d829e6d7cf2fb",
   "execution_count": 26
  },
  {
   "cell_type": "code",
   "outputs": [],
   "source": [
    "df = pd.read_csv(\"stock_data1.csv\")"
   ],
   "metadata": {
    "collapsed": false,
    "ExecuteTime": {
     "end_time": "2024-05-11T09:17:47.654621193Z",
     "start_time": "2024-05-11T09:17:47.600827594Z"
    }
   },
   "id": "2bb95a372bb99536",
   "execution_count": 27
  },
  {
   "cell_type": "code",
   "outputs": [
    {
     "name": "stdout",
     "output_type": "stream",
     "text": [
      "<class 'pandas.core.frame.DataFrame'>\n",
      "RangeIndex: 6078 entries, 0 to 6077\n",
      "Data columns (total 22 columns):\n",
      " #   Column      Non-Null Count  Dtype \n",
      "---  ------      --------------  ----- \n",
      " 0   Unnamed: 0  6077 non-null   object\n",
      " 1   AAPL        6077 non-null   object\n",
      " 2   AAPL.1      6077 non-null   object\n",
      " 3   AAPL.2      6077 non-null   object\n",
      " 4   AAPL.3      6077 non-null   object\n",
      " 5   AAPL.4      6077 non-null   object\n",
      " 6   AAPL.5      6077 non-null   object\n",
      " 7   AAPL.6      6077 non-null   object\n",
      " 8   GOOGL       4915 non-null   object\n",
      " 9   GOOGL.1     4915 non-null   object\n",
      " 10  GOOGL.2     4915 non-null   object\n",
      " 11  GOOGL.3     4915 non-null   object\n",
      " 12  GOOGL.4     4915 non-null   object\n",
      " 13  GOOGL.5     4915 non-null   object\n",
      " 14  GOOGL.6     4915 non-null   object\n",
      " 15  AMZN        6077 non-null   object\n",
      " 16  AMZN.1      6077 non-null   object\n",
      " 17  AMZN.2      6077 non-null   object\n",
      " 18  AMZN.3      6077 non-null   object\n",
      " 19  AMZN.4      6077 non-null   object\n",
      " 20  AMZN.5      6077 non-null   object\n",
      " 21  AMZN.6      6077 non-null   object\n",
      "dtypes: object(22)\n",
      "memory usage: 1.0+ MB\n"
     ]
    }
   ],
   "source": [
    "df.info()"
   ],
   "metadata": {
    "collapsed": false,
    "ExecuteTime": {
     "end_time": "2024-05-11T09:26:05.818870469Z",
     "start_time": "2024-05-11T09:26:05.777948702Z"
    }
   },
   "id": "4eb6faadc9692eec",
   "execution_count": 29
  },
  {
   "cell_type": "code",
   "outputs": [],
   "source": [
    "nse = yf.Ticker(\"NSE\")        "
   ],
   "metadata": {
    "collapsed": false,
    "ExecuteTime": {
     "end_time": "2024-05-11T09:41:01.427729318Z",
     "start_time": "2024-05-11T09:41:01.419416731Z"
    }
   },
   "id": "7d583f1f30c3770a",
   "execution_count": 31
  },
  {
   "cell_type": "code",
   "outputs": [
    {
     "data": {
      "text/plain": "                            Open   High    Low  Close  Volume  Dividends  \\\nDate                                                                       \n2014-11-14 00:00:00-05:00  21.00  21.00  21.00  21.00       0        0.0   \n2014-11-17 00:00:00-05:00  21.00  21.00  21.00  21.00       0        0.0   \n2014-11-18 00:00:00-05:00  21.00  21.00  21.00  21.00       0        0.0   \n2014-11-19 00:00:00-05:00  21.00  21.00  21.00  21.00       0        0.0   \n2014-11-20 00:00:00-05:00  21.00  21.00  21.00  21.00       0        0.0   \n...                          ...    ...    ...    ...     ...        ...   \n2022-02-24 00:00:00-05:00   7.94   7.94   7.94   7.94   14000        0.0   \n2022-02-25 00:00:00-05:00   7.80   7.80   7.80   7.80   11600        0.0   \n2022-02-28 00:00:00-05:00   7.78   7.78   7.78   7.78   44400        0.0   \n2022-03-01 00:00:00-05:00   7.78   7.78   7.78   7.78   29800        0.0   \n2022-03-02 00:00:00-05:00   7.80   7.80   7.80   7.80    4900        0.0   \n\n                           Stock Splits  Capital Gains  \nDate                                                    \n2014-11-14 00:00:00-05:00           0.0            0.0  \n2014-11-17 00:00:00-05:00           0.0            0.0  \n2014-11-18 00:00:00-05:00           0.0            0.0  \n2014-11-19 00:00:00-05:00           0.0            0.0  \n2014-11-20 00:00:00-05:00           0.0            0.0  \n...                                 ...            ...  \n2022-02-24 00:00:00-05:00           0.0            0.0  \n2022-02-25 00:00:00-05:00           0.0            0.0  \n2022-02-28 00:00:00-05:00           0.0            0.0  \n2022-03-01 00:00:00-05:00           0.0            0.0  \n2022-03-02 00:00:00-05:00           0.0            0.0  \n\n[1822 rows x 8 columns]",
      "text/html": "<div>\n<style scoped>\n    .dataframe tbody tr th:only-of-type {\n        vertical-align: middle;\n    }\n\n    .dataframe tbody tr th {\n        vertical-align: top;\n    }\n\n    .dataframe thead th {\n        text-align: right;\n    }\n</style>\n<table border=\"1\" class=\"dataframe\">\n  <thead>\n    <tr style=\"text-align: right;\">\n      <th></th>\n      <th>Open</th>\n      <th>High</th>\n      <th>Low</th>\n      <th>Close</th>\n      <th>Volume</th>\n      <th>Dividends</th>\n      <th>Stock Splits</th>\n      <th>Capital Gains</th>\n    </tr>\n    <tr>\n      <th>Date</th>\n      <th></th>\n      <th></th>\n      <th></th>\n      <th></th>\n      <th></th>\n      <th></th>\n      <th></th>\n      <th></th>\n    </tr>\n  </thead>\n  <tbody>\n    <tr>\n      <th>2014-11-14 00:00:00-05:00</th>\n      <td>21.00</td>\n      <td>21.00</td>\n      <td>21.00</td>\n      <td>21.00</td>\n      <td>0</td>\n      <td>0.0</td>\n      <td>0.0</td>\n      <td>0.0</td>\n    </tr>\n    <tr>\n      <th>2014-11-17 00:00:00-05:00</th>\n      <td>21.00</td>\n      <td>21.00</td>\n      <td>21.00</td>\n      <td>21.00</td>\n      <td>0</td>\n      <td>0.0</td>\n      <td>0.0</td>\n      <td>0.0</td>\n    </tr>\n    <tr>\n      <th>2014-11-18 00:00:00-05:00</th>\n      <td>21.00</td>\n      <td>21.00</td>\n      <td>21.00</td>\n      <td>21.00</td>\n      <td>0</td>\n      <td>0.0</td>\n      <td>0.0</td>\n      <td>0.0</td>\n    </tr>\n    <tr>\n      <th>2014-11-19 00:00:00-05:00</th>\n      <td>21.00</td>\n      <td>21.00</td>\n      <td>21.00</td>\n      <td>21.00</td>\n      <td>0</td>\n      <td>0.0</td>\n      <td>0.0</td>\n      <td>0.0</td>\n    </tr>\n    <tr>\n      <th>2014-11-20 00:00:00-05:00</th>\n      <td>21.00</td>\n      <td>21.00</td>\n      <td>21.00</td>\n      <td>21.00</td>\n      <td>0</td>\n      <td>0.0</td>\n      <td>0.0</td>\n      <td>0.0</td>\n    </tr>\n    <tr>\n      <th>...</th>\n      <td>...</td>\n      <td>...</td>\n      <td>...</td>\n      <td>...</td>\n      <td>...</td>\n      <td>...</td>\n      <td>...</td>\n      <td>...</td>\n    </tr>\n    <tr>\n      <th>2022-02-24 00:00:00-05:00</th>\n      <td>7.94</td>\n      <td>7.94</td>\n      <td>7.94</td>\n      <td>7.94</td>\n      <td>14000</td>\n      <td>0.0</td>\n      <td>0.0</td>\n      <td>0.0</td>\n    </tr>\n    <tr>\n      <th>2022-02-25 00:00:00-05:00</th>\n      <td>7.80</td>\n      <td>7.80</td>\n      <td>7.80</td>\n      <td>7.80</td>\n      <td>11600</td>\n      <td>0.0</td>\n      <td>0.0</td>\n      <td>0.0</td>\n    </tr>\n    <tr>\n      <th>2022-02-28 00:00:00-05:00</th>\n      <td>7.78</td>\n      <td>7.78</td>\n      <td>7.78</td>\n      <td>7.78</td>\n      <td>44400</td>\n      <td>0.0</td>\n      <td>0.0</td>\n      <td>0.0</td>\n    </tr>\n    <tr>\n      <th>2022-03-01 00:00:00-05:00</th>\n      <td>7.78</td>\n      <td>7.78</td>\n      <td>7.78</td>\n      <td>7.78</td>\n      <td>29800</td>\n      <td>0.0</td>\n      <td>0.0</td>\n      <td>0.0</td>\n    </tr>\n    <tr>\n      <th>2022-03-02 00:00:00-05:00</th>\n      <td>7.80</td>\n      <td>7.80</td>\n      <td>7.80</td>\n      <td>7.80</td>\n      <td>4900</td>\n      <td>0.0</td>\n      <td>0.0</td>\n      <td>0.0</td>\n    </tr>\n  </tbody>\n</table>\n<p>1822 rows × 8 columns</p>\n</div>"
     },
     "execution_count": 32,
     "metadata": {},
     "output_type": "execute_result"
    }
   ],
   "source": [
    "nse.history(period = \"max\")"
   ],
   "metadata": {
    "collapsed": false,
    "ExecuteTime": {
     "end_time": "2024-05-11T09:41:54.217788984Z",
     "start_time": "2024-05-11T09:41:52.577913536Z"
    }
   },
   "id": "9feb09a4211fcd28",
   "execution_count": 32
  },
  {
   "cell_type": "code",
   "outputs": [],
   "source": [],
   "metadata": {
    "collapsed": false
   },
   "id": "7ccbce1b5f9ba740"
  }
 ],
 "metadata": {
  "kernelspec": {
   "display_name": "Python 3",
   "language": "python",
   "name": "python3"
  },
  "language_info": {
   "codemirror_mode": {
    "name": "ipython",
    "version": 2
   },
   "file_extension": ".py",
   "mimetype": "text/x-python",
   "name": "python",
   "nbconvert_exporter": "python",
   "pygments_lexer": "ipython2",
   "version": "2.7.6"
  }
 },
 "nbformat": 4,
 "nbformat_minor": 5
}
