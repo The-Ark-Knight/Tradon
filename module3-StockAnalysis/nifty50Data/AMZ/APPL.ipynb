{
 "cells": [
  {
   "cell_type": "code",
   "execution_count": 1,
   "id": "initial_id",
   "metadata": {
    "collapsed": true,
    "ExecuteTime": {
     "end_time": "2024-05-11T10:46:00.078969936Z",
     "start_time": "2024-05-11T10:45:54.581720359Z"
    }
   },
   "outputs": [],
   "source": [
    "import yfinance as yf\n",
    "import pandas as pd\n",
    "import datetime as dt\n",
    "\n",
    "ticker_symbols = [\"AAPL\", \"AMZN\"]\n",
    "\n",
    "start_date = \"2000-01-01\"\n",
    "end_date = dt.datetime.today()\n",
    "\n",
    "# Download the historical data for each ticker symbol\n",
    "data = {}\n",
    "for ticker_symbol in ticker_symbols:\n",
    "    ticker = yf.Ticker(ticker_symbol)\n",
    "    history = ticker.history(period=\"max\", start=start_date, end=end_date)\n",
    "    data[ticker_symbol] = history\n",
    "\n",
    "# Concatenate the data for each ticker symbol into a single DataFrame\n",
    "df = pd.concat(data, axis=1)\n",
    "\n",
    "# Save the DataFrame to a CSV file\n",
    "df.to_csv(\"stock_data1.csv\")\n"
   ]
  },
  {
   "cell_type": "code",
   "outputs": [],
   "source": [],
   "metadata": {
    "collapsed": false
   },
   "id": "dd468c654168af"
  }
 ],
 "metadata": {
  "kernelspec": {
   "display_name": "Python 3",
   "language": "python",
   "name": "python3"
  },
  "language_info": {
   "codemirror_mode": {
    "name": "ipython",
    "version": 2
   },
   "file_extension": ".py",
   "mimetype": "text/x-python",
   "name": "python",
   "nbconvert_exporter": "python",
   "pygments_lexer": "ipython2",
   "version": "2.7.6"
  }
 },
 "nbformat": 4,
 "nbformat_minor": 5
}
